{
 "metadata": {
  "language_info": {
   "codemirror_mode": {
    "name": "ipython",
    "version": 3
   },
   "file_extension": ".py",
   "mimetype": "text/x-python",
   "name": "python",
   "nbconvert_exporter": "python",
   "pygments_lexer": "ipython3",
   "version": "3.7.9-final"
  },
  "orig_nbformat": 2,
  "kernelspec": {
   "name": "python3",
   "display_name": "Python 3"
  }
 },
 "nbformat": 4,
 "nbformat_minor": 2,
 "cells": [
  {
   "source": [
    "# Common Data Preprocessing Skills\n",
    "\n",
    "Before we starting data preprocessing, please make sure you have installed following dependencies:\n",
    "- json\n",
    "- numpy\n",
    "- pandas\n",
    "- matplotlib\n",
    "- h5py\n",
    "- gzip\n",
    "- tqdm  (optional)\n",
    "\n",
    "You can install them by typing \" pip install xxx \" in terminal."
   ],
   "cell_type": "markdown",
   "metadata": {}
  },
  {
   "source": [
    "## 1. Load & Save various data types\n",
    "\n",
    "During our study on Particle Physics, data may come with different types, such as .h5 , .pkl , .json , .txt , .cvs. And it might be even compacted as .z or .gz. So our first step is to read them. <br>\n",
    "When we read data, pandas.DataFrame is always our best friend. We also sometimes use numpy.ndarray. <br>\n",
    "\n",
    "The read_file functions have plenty of parameters, you can check it yourself. Here I provide the <a href=\"https://pandas.pydata.org/pandas-docs/stable/reference/api/pandas.DataFrame.to_hdf.html\">link</a> to pandas.DataFrame.read_hdf()\n",
    "\n"
   ],
   "cell_type": "markdown",
   "metadata": {}
  },
  {
   "source": [
    "### 1) Load Uncompacted Files"
   ],
   "cell_type": "markdown",
   "metadata": {}
  },
  {
   "cell_type": "code",
   "execution_count": 25,
   "metadata": {},
   "outputs": [],
   "source": [
    "import pandas as pd\n",
    "import numpy as np\n",
    "import h5py\n",
    "import gzip\n",
    "\n",
    "load_path = \"data/samples\"\n",
    "df1 = pd.read_hdf(load_path+\".h5\", key=\"data\")          # I know the key is \"data\", because I created it. For unfamiliar data, you need to figure the key out.\n",
    "df2 = pd.read_pickle(load_path+'.pkl')\n",
    "df3 = pd.read_json(load_path+'.json')\n",
    "df4 = pd.read_csv(load_path+'.csv', sep=',')\n",
    "df5 = pd.read_csv(load_path+'.txt', sep=',')\n"
   ]
  },
  {
   "source": [
    "To find out the key of a .h5 file, you need to read it by h5py."
   ],
   "cell_type": "markdown",
   "metadata": {}
  },
  {
   "cell_type": "code",
   "execution_count": 8,
   "metadata": {},
   "outputs": [
    {
     "output_type": "stream",
     "name": "stdout",
     "text": [
      "<KeysViewHDF5 ['data']>\n"
     ]
    }
   ],
   "source": [
    "with h5py.File(load_path+'.h5','r') as f:\n",
    "    print(f.keys())"
   ]
  },
  {
   "cell_type": "code",
   "execution_count": 10,
   "metadata": {},
   "outputs": [
    {
     "output_type": "execute_result",
     "data": {
      "text/plain": [
       "(20000, 79)"
      ]
     },
     "metadata": {},
     "execution_count": 10
    }
   ],
   "source": [
    "# Check your data shape, it should be (20k,79)\n",
    "df1.shape"
   ]
  },
  {
   "source": [
    "### 2) Load Compacted Files\n"
   ],
   "cell_type": "markdown",
   "metadata": {}
  },
  {
   "cell_type": "code",
   "execution_count": 29,
   "metadata": {},
   "outputs": [],
   "source": [
    "with gzip.open(load_path+'.txt.gz', 'r') as f:\n",
    "    df6 = pd.read_csv(f,sep=',', )"
   ]
  },
  {
   "source": [
    "For .z files, you can directly load it by h5py.File()."
   ],
   "cell_type": "markdown",
   "metadata": {}
  },
  {
   "source": [
    "### 3) Excercise\n",
    "Try them yourself and chech whether the 6 DataFrames are the same. You can check their shapes, column names, etc. <br>\n",
    "If you don't know how to get those information, ask Google!\n"
   ],
   "cell_type": "markdown",
   "metadata": {}
  },
  {
   "source": [
    "## 2. Jet Image Plotting"
   ],
   "cell_type": "markdown",
   "metadata": {}
  },
  {
   "source": [
    "## 3. Train Test Split"
   ],
   "cell_type": "markdown",
   "metadata": {}
  },
  {
   "cell_type": "code",
   "execution_count": null,
   "metadata": {},
   "outputs": [],
   "source": []
  }
 ]
}