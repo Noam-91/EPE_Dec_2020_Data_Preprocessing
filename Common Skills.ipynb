{
 "metadata": {
  "language_info": {
   "codemirror_mode": {
    "name": "ipython",
    "version": 3
   },
   "file_extension": ".py",
   "mimetype": "text/x-python",
   "name": "python",
   "nbconvert_exporter": "python",
   "pygments_lexer": "ipython3",
   "version": 3
  },
  "orig_nbformat": 2
 },
 "nbformat": 4,
 "nbformat_minor": 2,
 "cells": [
  {
   "source": [
    "# Common Data Preprocessing Skills\n",
    "\n",
    "Before we starting data preprocessing, please make sure you have installed following dependencies:\n",
    "- json\n",
    "- numpy\n",
    "- pandas\n",
    "- matplotlib\n",
    "- h5py\n",
    "- tqdm  (optional)\n",
    "\n",
    "You can install them by typing \" pip install xxx \" in terminal."
   ],
   "cell_type": "markdown",
   "metadata": {}
  },
  {
   "source": [
    "## 1. Load & Save various data types\n",
    "\n",
    "During our study on Particle Physics, data may come with different types, such as .h5 , .pkl , .json , .txt , .cvs. And it might be even compacted as .g or .gz. So our first step is to read them. <br>\n",
    "When we read data, pandas.DataFrame is always our best friend. We also sometimes use numpy.ndarray. "
   ],
   "cell_type": "markdown",
   "metadata": {}
  },
  {
   "cell_type": "code",
   "execution_count": null,
   "metadata": {},
   "outputs": [],
   "source": []
  }
 ]
}