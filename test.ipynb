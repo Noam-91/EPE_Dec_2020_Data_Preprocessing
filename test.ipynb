{
 "metadata": {
  "language_info": {
   "codemirror_mode": {
    "name": "ipython",
    "version": 3
   },
   "file_extension": ".py",
   "mimetype": "text/x-python",
   "name": "python",
   "nbconvert_exporter": "python",
   "pygments_lexer": "ipython3",
   "version": "3.8.5-final"
  },
  "orig_nbformat": 2,
  "kernelspec": {
   "name": "python3",
   "display_name": "Python 3"
  }
 },
 "nbformat": 4,
 "nbformat_minor": 2,
 "cells": [
  {
   "cell_type": "code",
   "execution_count": 32,
   "metadata": {},
   "outputs": [],
   "source": [
    "import numpy as np\n",
    "import h5py\n",
    "import pandas as pd\n",
    "from tqdm import tqdm\n",
    "from pyjet import cluster\n",
    "\n",
    "from scipy.stats import binned_statistic_2d"
   ]
  },
  {
   "cell_type": "code",
   "execution_count": 2,
   "metadata": {},
   "outputs": [],
   "source": [
    "filePath = \"data/4m_samples.h5\"\n",
    "nJets = 100\n",
    "nConstituents = 40"
   ]
  },
  {
   "cell_type": "code",
   "execution_count": null,
   "metadata": {},
   "outputs": [],
   "source": [
    "def _load (filePath, nJets=200000, nConstituents=40):\n",
    "    '''\n",
    "    Returns:\n",
    "        momenta: (nJets, 4, nConstituents)\n",
    "    '''\n",
    "    cols = ['E_'+str(i) for i in range(nConstituents)]+ ['PX_'+str(i) for i in range(nConstituents)] + ['PX_'+str(i) for i in range(nConstituents)] + ['PY_'+str(i) for i in range(nConstituents)] + ['PZ_'+str(i) for i in range(nConstituents)] + ['is_signal_new']\n",
    "\n",
    "    # df = pd.read_hdf(filePath,key='data',stop=nJets, columns = cols)\n",
    "    df = pd.read_hdf(filePath,key='data')\n",
    "    # Take all the 4 momentum from 200 particles in all jets and reshape them into one particle per row\n",
    "    momenta = df.iloc[:,:-1].to_numpy()\n",
    "    momenta = momenta.reshape(-1,nConstituents,4)\n",
    "    nJets = slice(nJets)\n",
    "    momenta = momenta[nJets, :nConstituents, :]\n",
    "    momenta = np.transpose(momenta, (0, 2, 1))\n",
    "    label = df['is_signal_new']\n",
    "    return momenta, label"
   ]
  },
  {
   "cell_type": "code",
   "execution_count": 3,
   "metadata": {},
   "outputs": [
    {
     "output_type": "execute_result",
     "data": {
      "text/plain": [
       "            E_0         E_1         E_2         E_3         E_4         E_5  \\\n",
       "375  474.071136  103.236237  105.255569   40.176777   22.428583   20.334389   \n",
       "377  150.504532   82.257057   48.573559   47.044415   28.850746   25.893602   \n",
       "378  251.645386  104.147797   78.043213   60.968952   51.472054   48.337425   \n",
       "379  451.566132  208.410919  190.183304  165.955811  152.131714  138.642105   \n",
       "380  399.093903  273.691956  152.837219   85.448845   50.338779   33.557629   \n",
       "..          ...         ...         ...         ...         ...         ...   \n",
       "908  287.530090  168.847504  112.256172   32.228699   33.086334   33.483089   \n",
       "910  104.363907   51.634712   49.769173   45.645321   29.278572   34.209408   \n",
       "914  299.944183  139.551422   29.802004   29.472048   28.298494   25.385210   \n",
       "915  872.585571  236.073547  132.817322   25.505329   23.159006   14.564881   \n",
       "918  180.234039  208.376617  160.441452  171.515411  118.851608  134.458694   \n",
       "\n",
       "            E_6        E_7        E_8        E_9  ...     PZ_31     PZ_32  \\\n",
       "375   19.030899  13.460596  11.226108  10.445061  ...  0.000000  0.000000   \n",
       "377   23.206804  19.720304  19.354494  19.159235  ... -0.598414 -1.206531   \n",
       "378   42.666927  41.418427  30.382032  28.893793  ...  2.873340  2.019106   \n",
       "379  115.553978  99.195404  34.859463  32.415459  ...  0.000000  0.000000   \n",
       "380   27.275934  33.602020  23.398998  30.679037  ... -6.996005 -4.947374   \n",
       "..          ...        ...        ...        ...  ...       ...       ...   \n",
       "908   22.993778  16.389671  13.751877  12.585986  ... -2.490512 -1.689721   \n",
       "910   35.236862  30.983622  21.009840  23.172194  ...  0.832889  0.554253   \n",
       "914   21.464867  15.985082  14.983712   5.892632  ...  0.000000  0.000000   \n",
       "915   12.370288  12.826923  10.435250   9.127288  ... -1.113016 -1.352930   \n",
       "918  122.130920  69.495972  61.036690  47.246296  ... -2.104613 -1.464854   \n",
       "\n",
       "        PZ_33     PZ_34     PZ_35     PZ_36     PZ_37     PZ_38     PZ_39  \\\n",
       "375  0.000000  0.000000  0.000000  0.000000  0.000000  0.000000  0.000000   \n",
       "377 -0.381303 -0.349586 -0.295744 -0.603761 -0.154503  0.025716  0.132601   \n",
       "378  1.588634  1.501889  1.332423  1.290797  1.818727  0.774023  1.239125   \n",
       "379  0.000000  0.000000  0.000000  0.000000  0.000000  0.000000  0.000000   \n",
       "380 -5.012867 -4.834523 -4.645840 -4.473898 -2.356860 -3.613118 -2.849185   \n",
       "..        ...       ...       ...       ...       ...       ...       ...   \n",
       "908 -1.886973 -0.757103 -2.467528 -0.969460 -0.458176 -0.826748 -1.665124   \n",
       "910  1.326195  1.508835  1.551696  1.375213  1.160517  1.470226  1.641878   \n",
       "914  0.000000  0.000000  0.000000  0.000000  0.000000  0.000000  0.000000   \n",
       "915 -2.619766 -0.549278 -1.308018 -0.982968 -0.886416 -1.094448 -0.589929   \n",
       "918 -0.823793 -0.433305 -0.689379  0.000000  0.000000  0.000000  0.000000   \n",
       "\n",
       "     is_signal_new  \n",
       "375              0  \n",
       "377              0  \n",
       "378              0  \n",
       "379              0  \n",
       "380              0  \n",
       "..             ...  \n",
       "908              0  \n",
       "910              0  \n",
       "914              0  \n",
       "915              0  \n",
       "918              0  \n",
       "\n",
       "[100 rows x 161 columns]"
      ],
      "text/html": "<div>\n<style scoped>\n    .dataframe tbody tr th:only-of-type {\n        vertical-align: middle;\n    }\n\n    .dataframe tbody tr th {\n        vertical-align: top;\n    }\n\n    .dataframe thead th {\n        text-align: right;\n    }\n</style>\n<table border=\"1\" class=\"dataframe\">\n  <thead>\n    <tr style=\"text-align: right;\">\n      <th></th>\n      <th>E_0</th>\n      <th>E_1</th>\n      <th>E_2</th>\n      <th>E_3</th>\n      <th>E_4</th>\n      <th>E_5</th>\n      <th>E_6</th>\n      <th>E_7</th>\n      <th>E_8</th>\n      <th>E_9</th>\n      <th>...</th>\n      <th>PZ_31</th>\n      <th>PZ_32</th>\n      <th>PZ_33</th>\n      <th>PZ_34</th>\n      <th>PZ_35</th>\n      <th>PZ_36</th>\n      <th>PZ_37</th>\n      <th>PZ_38</th>\n      <th>PZ_39</th>\n      <th>is_signal_new</th>\n    </tr>\n  </thead>\n  <tbody>\n    <tr>\n      <th>375</th>\n      <td>474.071136</td>\n      <td>103.236237</td>\n      <td>105.255569</td>\n      <td>40.176777</td>\n      <td>22.428583</td>\n      <td>20.334389</td>\n      <td>19.030899</td>\n      <td>13.460596</td>\n      <td>11.226108</td>\n      <td>10.445061</td>\n      <td>...</td>\n      <td>0.000000</td>\n      <td>0.000000</td>\n      <td>0.000000</td>\n      <td>0.000000</td>\n      <td>0.000000</td>\n      <td>0.000000</td>\n      <td>0.000000</td>\n      <td>0.000000</td>\n      <td>0.000000</td>\n      <td>0</td>\n    </tr>\n    <tr>\n      <th>377</th>\n      <td>150.504532</td>\n      <td>82.257057</td>\n      <td>48.573559</td>\n      <td>47.044415</td>\n      <td>28.850746</td>\n      <td>25.893602</td>\n      <td>23.206804</td>\n      <td>19.720304</td>\n      <td>19.354494</td>\n      <td>19.159235</td>\n      <td>...</td>\n      <td>-0.598414</td>\n      <td>-1.206531</td>\n      <td>-0.381303</td>\n      <td>-0.349586</td>\n      <td>-0.295744</td>\n      <td>-0.603761</td>\n      <td>-0.154503</td>\n      <td>0.025716</td>\n      <td>0.132601</td>\n      <td>0</td>\n    </tr>\n    <tr>\n      <th>378</th>\n      <td>251.645386</td>\n      <td>104.147797</td>\n      <td>78.043213</td>\n      <td>60.968952</td>\n      <td>51.472054</td>\n      <td>48.337425</td>\n      <td>42.666927</td>\n      <td>41.418427</td>\n      <td>30.382032</td>\n      <td>28.893793</td>\n      <td>...</td>\n      <td>2.873340</td>\n      <td>2.019106</td>\n      <td>1.588634</td>\n      <td>1.501889</td>\n      <td>1.332423</td>\n      <td>1.290797</td>\n      <td>1.818727</td>\n      <td>0.774023</td>\n      <td>1.239125</td>\n      <td>0</td>\n    </tr>\n    <tr>\n      <th>379</th>\n      <td>451.566132</td>\n      <td>208.410919</td>\n      <td>190.183304</td>\n      <td>165.955811</td>\n      <td>152.131714</td>\n      <td>138.642105</td>\n      <td>115.553978</td>\n      <td>99.195404</td>\n      <td>34.859463</td>\n      <td>32.415459</td>\n      <td>...</td>\n      <td>0.000000</td>\n      <td>0.000000</td>\n      <td>0.000000</td>\n      <td>0.000000</td>\n      <td>0.000000</td>\n      <td>0.000000</td>\n      <td>0.000000</td>\n      <td>0.000000</td>\n      <td>0.000000</td>\n      <td>0</td>\n    </tr>\n    <tr>\n      <th>380</th>\n      <td>399.093903</td>\n      <td>273.691956</td>\n      <td>152.837219</td>\n      <td>85.448845</td>\n      <td>50.338779</td>\n      <td>33.557629</td>\n      <td>27.275934</td>\n      <td>33.602020</td>\n      <td>23.398998</td>\n      <td>30.679037</td>\n      <td>...</td>\n      <td>-6.996005</td>\n      <td>-4.947374</td>\n      <td>-5.012867</td>\n      <td>-4.834523</td>\n      <td>-4.645840</td>\n      <td>-4.473898</td>\n      <td>-2.356860</td>\n      <td>-3.613118</td>\n      <td>-2.849185</td>\n      <td>0</td>\n    </tr>\n    <tr>\n      <th>...</th>\n      <td>...</td>\n      <td>...</td>\n      <td>...</td>\n      <td>...</td>\n      <td>...</td>\n      <td>...</td>\n      <td>...</td>\n      <td>...</td>\n      <td>...</td>\n      <td>...</td>\n      <td>...</td>\n      <td>...</td>\n      <td>...</td>\n      <td>...</td>\n      <td>...</td>\n      <td>...</td>\n      <td>...</td>\n      <td>...</td>\n      <td>...</td>\n      <td>...</td>\n      <td>...</td>\n    </tr>\n    <tr>\n      <th>908</th>\n      <td>287.530090</td>\n      <td>168.847504</td>\n      <td>112.256172</td>\n      <td>32.228699</td>\n      <td>33.086334</td>\n      <td>33.483089</td>\n      <td>22.993778</td>\n      <td>16.389671</td>\n      <td>13.751877</td>\n      <td>12.585986</td>\n      <td>...</td>\n      <td>-2.490512</td>\n      <td>-1.689721</td>\n      <td>-1.886973</td>\n      <td>-0.757103</td>\n      <td>-2.467528</td>\n      <td>-0.969460</td>\n      <td>-0.458176</td>\n      <td>-0.826748</td>\n      <td>-1.665124</td>\n      <td>0</td>\n    </tr>\n    <tr>\n      <th>910</th>\n      <td>104.363907</td>\n      <td>51.634712</td>\n      <td>49.769173</td>\n      <td>45.645321</td>\n      <td>29.278572</td>\n      <td>34.209408</td>\n      <td>35.236862</td>\n      <td>30.983622</td>\n      <td>21.009840</td>\n      <td>23.172194</td>\n      <td>...</td>\n      <td>0.832889</td>\n      <td>0.554253</td>\n      <td>1.326195</td>\n      <td>1.508835</td>\n      <td>1.551696</td>\n      <td>1.375213</td>\n      <td>1.160517</td>\n      <td>1.470226</td>\n      <td>1.641878</td>\n      <td>0</td>\n    </tr>\n    <tr>\n      <th>914</th>\n      <td>299.944183</td>\n      <td>139.551422</td>\n      <td>29.802004</td>\n      <td>29.472048</td>\n      <td>28.298494</td>\n      <td>25.385210</td>\n      <td>21.464867</td>\n      <td>15.985082</td>\n      <td>14.983712</td>\n      <td>5.892632</td>\n      <td>...</td>\n      <td>0.000000</td>\n      <td>0.000000</td>\n      <td>0.000000</td>\n      <td>0.000000</td>\n      <td>0.000000</td>\n      <td>0.000000</td>\n      <td>0.000000</td>\n      <td>0.000000</td>\n      <td>0.000000</td>\n      <td>0</td>\n    </tr>\n    <tr>\n      <th>915</th>\n      <td>872.585571</td>\n      <td>236.073547</td>\n      <td>132.817322</td>\n      <td>25.505329</td>\n      <td>23.159006</td>\n      <td>14.564881</td>\n      <td>12.370288</td>\n      <td>12.826923</td>\n      <td>10.435250</td>\n      <td>9.127288</td>\n      <td>...</td>\n      <td>-1.113016</td>\n      <td>-1.352930</td>\n      <td>-2.619766</td>\n      <td>-0.549278</td>\n      <td>-1.308018</td>\n      <td>-0.982968</td>\n      <td>-0.886416</td>\n      <td>-1.094448</td>\n      <td>-0.589929</td>\n      <td>0</td>\n    </tr>\n    <tr>\n      <th>918</th>\n      <td>180.234039</td>\n      <td>208.376617</td>\n      <td>160.441452</td>\n      <td>171.515411</td>\n      <td>118.851608</td>\n      <td>134.458694</td>\n      <td>122.130920</td>\n      <td>69.495972</td>\n      <td>61.036690</td>\n      <td>47.246296</td>\n      <td>...</td>\n      <td>-2.104613</td>\n      <td>-1.464854</td>\n      <td>-0.823793</td>\n      <td>-0.433305</td>\n      <td>-0.689379</td>\n      <td>0.000000</td>\n      <td>0.000000</td>\n      <td>0.000000</td>\n      <td>0.000000</td>\n      <td>0</td>\n    </tr>\n  </tbody>\n</table>\n<p>100 rows × 161 columns</p>\n</div>"
     },
     "metadata": {},
     "execution_count": 3
    }
   ],
   "source": [
    "cols = ['E_'+str(i) for i in range(nConstituents)]+ ['PX_'+str(i) for i in range(nConstituents)] + ['PX_'+str(i) for i in range(nConstituents)] + ['PY_'+str(i) for i in range(nConstituents)] + ['PZ_'+str(i) for i in range(nConstituents)] + ['is_signal_new']\n",
    "df = pd.read_hdf(filePath,key='data',stop=nJets, columns = cols)\n",
    "df"
   ]
  },
  {
   "cell_type": "code",
   "execution_count": 4,
   "metadata": {},
   "outputs": [],
   "source": [
    "momenta = df.iloc[:,:-1].to_numpy()\n",
    "momenta = momenta.reshape(-1,nConstituents,4)\n",
    "nJets = slice(nJets)\n",
    "momenta = momenta[nJets, :nConstituents, :]\n",
    "momenta = np.transpose(momenta, (0, 2, 1))\n",
    "label = df['is_signal_new']"
   ]
  },
  {
   "cell_type": "code",
   "execution_count": 5,
   "metadata": {},
   "outputs": [],
   "source": [
    "# Jet features\n",
    "jetMomenta = np.sum(momenta, axis=2)\n",
    "jetPt = np.linalg.norm(jetMomenta[:, 1:3], axis=1)[..., np.newaxis]\n",
    "jetE = jetMomenta[:, 0][..., np.newaxis]\n",
    "jetP = np.linalg.norm(jetMomenta[:, 1:], axis=1)\n",
    "jetEta = 0.5 * np.log((jetP + jetMomenta[:, 3]) / (jetP - jetMomenta[:, 3]))[..., np.newaxis]\n",
    "jetPhi = np.arctan2(jetMomenta[:, 2], jetMomenta[:, 1])[..., np.newaxis]\n",
    "jetTheta = 2*np.arctan(np.exp(-jetEta))\n",
    "\n",
    "# Constituent features\n",
    "# delta eta, delta phi, log pT, log E,log pT / pTjet, log E / Ejet, delta R\n",
    "pT = np.linalg.norm(momenta[:, 1:3, :], axis=1)\n",
    "e = momenta[:, 0, :]\n",
    "p = np.linalg.norm(momenta[:, 1:, :], axis=1)\n",
    "eta = 0.5 * np.log((p + momenta[:, 3, :]) / (p - momenta[:, 3, :]))\n",
    "etaRel = eta - jetEta\n",
    "phi = np.arctan2(momenta[:, 2, :], momenta[:, 1, :])\n",
    "phiRel = np.unwrap(phi - jetPhi)\n",
    "dR = np.sqrt(phi ** 2 + eta ** 2)\n",
    "theta = 2*np.arctan(np.exp(-eta))\n",
    "cosThetaRel = np.cos(theta-jetTheta)"
   ]
  },
  {
   "cell_type": "code",
   "execution_count": 7,
   "metadata": {},
   "outputs": [],
   "source": [
    "event = momenta[0,:,:]\n",
    "event = np.transpose(event,(1,0))\n",
    "eventCopy = np.core.records.fromarrays( [event[:,0],event[:,1],event[:,2],event[:,3]], names= 'E, PX, PY, PZ' , formats = 'f8, f8, f8,f8')\n",
    "\n",
    "R0 = 0.2\n",
    "p = 1\n",
    "\n",
    "sequence = cluster(eventCopy, R=R0, p= p, ep=True)"
   ]
  },
  {
   "cell_type": "code",
   "execution_count": 8,
   "metadata": {},
   "outputs": [],
   "source": [
    "subjet_data = event\n",
    "subjet_array = sequence.inclusive_jets()\n"
   ]
  },
  {
   "cell_type": "code",
   "execution_count": 20,
   "metadata": {},
   "outputs": [],
   "source": [
    "pT = subjet_data[:, 0]\n",
    "eta = subjet_data[:, 1]\n",
    "phi = subjet_data[:, 2]\n",
    "mass = subjet_data[:, 3]"
   ]
  },
  {
   "cell_type": "code",
   "execution_count": 10,
   "metadata": {},
   "outputs": [],
   "source": [
    "def deltaPhi(phi1,phi2):\n",
    "    x = phi1-phi2\n",
    "    while x >= np.pi: x -= np.pi*2.\n",
    "    while x < -np.pi: x += np.pi*2.\n",
    "    return x"
   ]
  },
  {
   "cell_type": "code",
   "execution_count": 25,
   "metadata": {},
   "outputs": [],
   "source": [
    "# shifts all data with respect to the leading subjet so that\n",
    "# the Jet Image is centerd at the origin (eta,phi) = (0,0).\n",
    "eta -= subjet_array[0].eta\n",
    "phi = np.array( [deltaPhi(i,subjet_array[0].phi) for i in phi])\n",
    "\n",
    "# Rotate the jet image such that the second leading\n",
    "# subjet is located at -pi/2\n",
    "s1x, s1y = subjet_array[1].eta - subjet_array[0].eta, deltaPhi(subjet_array[1].phi,subjet_array[0].phi)"
   ]
  },
  {
   "cell_type": "code",
   "execution_count": 27,
   "metadata": {},
   "outputs": [],
   "source": [
    "theta = np.arctan2(s1y, s1x)\n",
    "if theta < 0.0:\n",
    "    theta += 2 * np.pi"
   ]
  },
  {
   "cell_type": "code",
   "execution_count": 28,
   "metadata": {},
   "outputs": [],
   "source": [
    "def rotate(x, y, a):\n",
    "    xp = x * np.cos(a) - y * np.sin(a)\n",
    "    yp = x * np.sin(a) + y * np.cos(a)\n",
    "    return xp, yp"
   ]
  },
  {
   "cell_type": "code",
   "execution_count": 29,
   "metadata": {},
   "outputs": [],
   "source": [
    "eta, phi = rotate(eta, phi, np.pi - theta)"
   ]
  },
  {
   "cell_type": "code",
   "execution_count": 31,
   "metadata": {},
   "outputs": [],
   "source": [
    " # Collect the trimmed subjet constituents\n",
    "rjcs = np.array([pT, eta, phi, mass])\n",
    "rjcs = np.expand_dims(rjcs, axis=-1)\n",
    "rjcs = rjcs.transpose((1,0,2))\n",
    "rjcs = np.squeeze(rjcs, axis=(2,))"
   ]
  },
  {
   "cell_type": "code",
   "execution_count": 33,
   "metadata": {},
   "outputs": [],
   "source": [
    "def pixelize(jet, bins = 64, R = 1.2):\n",
    "    pt, eta, phi = jet[:,0], jet[:,1], jet[:,2]\n",
    "\n",
    "    # Define the binning for the complete calorimeter\n",
    "    ranges = np.array([[-R,R],[-R,R]])\n",
    "\n",
    "    # Sum energy deposits in each bin\n",
    "    digitized = binned_statistic_2d(eta, phi, pt, statistic=\"sum\", bins=bins, range= ranges)\n",
    "#     digitized = binned_statistic_2d(eta, phi, pt, statistic=\"sum\", bins=bins)\n",
    "    \n",
    "    jet_image = digitized.statistic\n",
    "    return jet_image"
   ]
  },
  {
   "cell_type": "code",
   "execution_count": null,
   "metadata": {},
   "outputs": [],
   "source": [
    "for i in rjcs:\n",
    "    "
   ]
  }
 ]
}