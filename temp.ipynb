{
 "metadata": {
  "language_info": {
   "codemirror_mode": {
    "name": "ipython",
    "version": 3
   },
   "file_extension": ".py",
   "mimetype": "text/x-python",
   "name": "python",
   "nbconvert_exporter": "python",
   "pygments_lexer": "ipython3",
   "version": "3.8.5-final"
  },
  "orig_nbformat": 2,
  "kernelspec": {
   "name": "python3",
   "display_name": "Python 3.8.5 64-bit ('tf': conda)",
   "metadata": {
    "interpreter": {
     "hash": "efef061a34b1b2802ea1ae428ecdf4ccdbfb72a27d87122cc8caef8c5539b89e"
    }
   }
  }
 },
 "nbformat": 4,
 "nbformat_minor": 2,
 "cells": [
  {
   "cell_type": "code",
   "execution_count": 1,
   "metadata": {},
   "outputs": [],
   "source": [
    "import numpy as np\n",
    "import h5py\n",
    "import pandas as pd\n",
    "import matplotlib.pyplot as plt\n",
    "from tqdm import tqdm\n",
    "from pyjet import cluster\n",
    "\n",
    "from scipy.stats import binned_statistic_2d"
   ]
  },
  {
   "cell_type": "code",
   "execution_count": 2,
   "metadata": {},
   "outputs": [],
   "source": [
    "filePath = \"data/4m_samples.h5\"\n",
    "nJets = 500\n",
    "nConstituents = 40\n",
    "R0 = 0.2\n",
    "p = -1"
   ]
  },
  {
   "cell_type": "code",
   "execution_count": 3,
   "metadata": {},
   "outputs": [],
   "source": [
    "def _load (filePath,nJets,nConstituents):\n",
    "    cols = ['E_'+str(i) for i in range(nConstituents)]+ ['PX_'+str(i) for i in range(nConstituents)] + ['PX_'+str(i) for i in range(nConstituents)] + ['PY_'+str(i) for i in range(nConstituents)] + ['PZ_'+str(i) for i in range(nConstituents)] + ['is_signal_new']\n",
    "    df = pd.read_hdf(filePath,key='data',stop=nJets, columns = cols)\n",
    "    momenta = df.iloc[:,:-1].to_numpy()\n",
    "    momenta = momenta.reshape(-1,nConstituents,4)\n",
    "    nJets = slice(nJets)\n",
    "    momenta = momenta[nJets, :nConstituents, :]\n",
    "    momenta = np.transpose(momenta, (0, 2, 1))\n",
    "    labels = df['is_signal_new'].to_numpy()\n",
    "    return momenta, labels\n"
   ]
  },
  {
   "cell_type": "code",
   "execution_count": 4,
   "metadata": {},
   "outputs": [],
   "source": [
    "momenta, labels = _load(filePath,nJets,nConstituents)"
   ]
  },
  {
   "cell_type": "code",
   "execution_count": 5,
   "metadata": {},
   "outputs": [],
   "source": [
    "def _getFeatures (momenta,nConstituents):\n",
    "    # Jet features\n",
    "    jetMomenta = np.sum(momenta, axis=2)\n",
    "    jetPt = np.linalg.norm(jetMomenta[:, 1:3], axis=1)[..., np.newaxis]\n",
    "    jetE = jetMomenta[:, 0][..., np.newaxis]\n",
    "    jetP = np.linalg.norm(jetMomenta[:, 1:], axis=1)\n",
    "    jetEta = 0.5 * np.log((jetP + jetMomenta[:, 3]) / (jetP - jetMomenta[:, 3]))[..., np.newaxis]\n",
    "    jetPhi = np.arctan2(jetMomenta[:, 2], jetMomenta[:, 1])[..., np.newaxis]\n",
    "    jetTheta = 2*np.arctan(np.exp(-jetEta))\n",
    "    # Copy nConstituents times to match the shape (nJets, nConstituents).\n",
    "    jetPt = np.tile(jetPt,nConstituents)\n",
    "    jetE = np.tile(jetE,nConstituents)\n",
    "    jetEta = np.tile(jetEta,nConstituents)\n",
    "    jetPhi = np.tile(jetPhi,nConstituents)\n",
    "\n",
    "    # Constituent features\n",
    "    # delta eta, delta phi, log pT, log E,log pT / pTjet, log E / Ejet, delta R\n",
    "    pT = np.linalg.norm(momenta[:, 1:3, :], axis=1)\n",
    "    e = momenta[:, 0, :]\n",
    "    p = np.linalg.norm(momenta[:, 1:, :], axis=1)\n",
    "    mass = e**2- p**2\n",
    "    # eta = 0.5 * np.log((p + momenta[:, 3, :]) / (p - momenta[:, 3, :]))\n",
    "    eta = np.arcsinh(momenta[:,3,:]/pT)\n",
    "    etaRel = eta - jetEta\n",
    "    phi = np.arctan2(momenta[:, 2, :], momenta[:, 1, :])\n",
    "    phiRel = np.unwrap(phi - jetPhi)\n",
    "    dR = np.sqrt(phi ** 2 + eta ** 2)\n",
    "    theta = 2*np.arctan(np.exp(-eta))\n",
    "    cosThetaRel = np.cos(theta-jetTheta)\n",
    "    \n",
    "    # Concatenate\n",
    "    # features = np.stack([jetPt, jetE, jetEta, jetPhi, pT, mass, e, eta, etaRel, phi, phiRel, dR, cosThetaRel],axis=-1)\n",
    "    features = np.stack([pT,eta,phi,mass, etaRel, phiRel, e, dR, cosThetaRel, jetPt, jetE, jetEta, jetPhi],axis=-1)\n",
    "    return features\n"
   ]
  },
  {
   "cell_type": "code",
   "execution_count": 6,
   "metadata": {},
   "outputs": [
    {
     "output_type": "execute_result",
     "data": {
      "text/plain": [
       "(500, 40, 13)"
      ]
     },
     "metadata": {},
     "execution_count": 6
    }
   ],
   "source": [
    "features = _getFeatures(momenta,nConstituents)\n",
    "features.shape"
   ]
  },
  {
   "cell_type": "code",
   "execution_count": 7,
   "metadata": {},
   "outputs": [],
   "source": [
    "def deltaPhi(phi1,phi2):\n",
    "    # Make sure it in the range (-pi, pi)\n",
    "    x = phi1-phi2\n",
    "    while x>= np.pi: x -= np.pi*2.\n",
    "    while x< -np.pi: x += np.pi*2.\n",
    "    return x\n",
    "\n",
    "def rotate(x, y, a):\n",
    "    xp = x * np.cos(a) - y * np.sin(a)\n",
    "    yp = x * np.sin(a) + y * np.cos(a)\n",
    "    return xp, yp\n",
    "\n",
    "def _clusterAndRotate (event, R0, ep=False, p=-1):\n",
    "    '''\n",
    "    R: Clustering radius for the main jets\n",
    "    p = -1, 0, 1 => anti-kt, C/A, kt Algorithm\n",
    "    ep = False, True => (px,py,pz,e) , (pT,eta,phi,mass)\n",
    "    '''\n",
    "    flattened_event = np.core.records.fromarrays( [event[:,0],event[:,1],event[:,2],event[:,3]], names= 'pT, eta, phi, mass' , formats = 'f8, f8, f8,f8')\n",
    "    sequence = cluster(flattened_event, R=R0, p= p)\n",
    "    jets = sequence.inclusive_jets()\n",
    "\n",
    "    if len(jets)<2:\n",
    "        return []\n",
    "    else:\n",
    "        subjet_data = event\n",
    "        subjet_array = jets\n",
    "\n",
    "    pT = subjet_data[:, 0]\n",
    "    eta = subjet_data[:, 1]\n",
    "    phi = subjet_data[:, 2]\n",
    "    mass = subjet_data[:, 3]\n",
    "\n",
    "    # shifts all data with respect to the leading subjet so that\n",
    "    # the Jet Image is centerd at the origin (eta,phi) = (0,0).\n",
    "    eta -= subjet_array[0].eta\n",
    "    phi = np.array( [deltaPhi(i,subjet_array[0].phi) for i in phi])\n",
    "\n",
    "    # Rotate the jet image such that the second leading\n",
    "    # subjet is located at -pi/2\n",
    "    s1x, s1y = subjet_array[1].eta - subjet_array[0].eta, deltaPhi(subjet_array[1].phi,subjet_array[0].phi)\n",
    "\n",
    "    theta = np.arctan2(s1y, s1x)\n",
    "    if theta < 0.0:\n",
    "        theta += 2 * np.pi\n",
    "    etaRot, phiRot = rotate(eta, phi, np.pi - theta)\n",
    "    \n",
    "    return etaRot, phiRot"
   ]
  },
  {
   "cell_type": "code",
   "execution_count": 8,
   "metadata": {},
   "outputs": [
    {
     "output_type": "stream",
     "name": "stderr",
     "text": [
      "100%|██████████| 500/500 [00:00<00:00, 4717.84it/s]\n"
     ]
    }
   ],
   "source": [
    "etaRot = []\n",
    "phiRot = []\n",
    "for i in tqdm(range(nJets)):\n",
    "    event = features[i,:,:4]\n",
    "    eta_R,phi_R = _clusterAndRotate(event,R0)\n",
    "    etaRot.append(eta_R)\n",
    "    phiRot.append(phi_R)\n",
    "etaRot = np.array(etaRot)\n",
    "phiRot = np.array(phiRot)"
   ]
  },
  {
   "cell_type": "code",
   "execution_count": 9,
   "metadata": {},
   "outputs": [],
   "source": [
    "validIndices = np.where(features[:,:,0]!=0)\n",
    "etaRot = etaRot[validIndices[0],validIndices[1]]\n",
    "phiRot = phiRot[validIndices[0],validIndices[1]]\n",
    "pT = features[validIndices[0],validIndices[1],0]\n"
   ]
  },
  {
   "cell_type": "code",
   "execution_count": 10,
   "metadata": {},
   "outputs": [],
   "source": [
    "R=1.2\n",
    "bins=64\n",
    "ranges = np.array([[-R,R],[-R,R]])\n",
    "\n",
    "# Sum energy deposits in each bin\n",
    "digitized = binned_statistic_2d(etaRot, phiRot, pT, statistic=\"sum\", bins=bins, range= ranges)\n",
    "jet_image = digitized.statistic"
   ]
  },
  {
   "cell_type": "code",
   "execution_count": 11,
   "metadata": {},
   "outputs": [
    {
     "output_type": "execute_result",
     "data": {
      "text/plain": [
       "<matplotlib.image.AxesImage at 0x7f0f19177c40>"
      ]
     },
     "metadata": {},
     "execution_count": 11
    },
    {
     "output_type": "display_data",
     "data": {
      "text/plain": "<Figure size 432x288 with 1 Axes>",
      "image/svg+xml": "<?xml version=\"1.0\" encoding=\"utf-8\" standalone=\"no\"?>\n<!DOCTYPE svg PUBLIC \"-//W3C//DTD SVG 1.1//EN\"\n  \"http://www.w3.org/Graphics/SVG/1.1/DTD/svg11.dtd\">\n<!-- Created with matplotlib (https://matplotlib.org/) -->\n<svg height=\"250.618594pt\" version=\"1.1\" viewBox=\"0 0 251.565 250.618594\" width=\"251.565pt\" xmlns=\"http://www.w3.org/2000/svg\" xmlns:xlink=\"http://www.w3.org/1999/xlink\">\n <metadata>\n  <rdf:RDF xmlns:cc=\"http://creativecommons.org/ns#\" xmlns:dc=\"http://purl.org/dc/elements/1.1/\" xmlns:rdf=\"http://www.w3.org/1999/02/22-rdf-syntax-ns#\">\n   <cc:Work>\n    <dc:type rdf:resource=\"http://purl.org/dc/dcmitype/StillImage\"/>\n    <dc:date>2020-12-05T17:34:31.354062</dc:date>\n    <dc:format>image/svg+xml</dc:format>\n    <dc:creator>\n     <cc:Agent>\n      <dc:title>Matplotlib v3.3.2, https://matplotlib.org/</dc:title>\n     </cc:Agent>\n    </dc:creator>\n   </cc:Work>\n  </rdf:RDF>\n </metadata>\n <defs>\n  <style type=\"text/css\">*{stroke-linecap:butt;stroke-linejoin:round;}</style>\n </defs>\n <g id=\"figure_1\">\n  <g id=\"patch_1\">\n   <path d=\"M 0 250.618594 \nL 251.565 250.618594 \nL 251.565 0 \nL 0 0 \nz\n\" style=\"fill:none;\"/>\n  </g>\n  <g id=\"axes_1\">\n   <g id=\"patch_2\">\n    <path d=\"M 26.925 226.740469 \nL 244.365 226.740469 \nL 244.365 9.300469 \nL 26.925 9.300469 \nz\n\" style=\"fill:#ffffff;\"/>\n   </g>\n   <g clip-path=\"url(#p7fd30eed14)\">\n    <image height=\"218\" id=\"imagebd0bd80c4b\" transform=\"scale(1 -1)translate(0 -218)\" width=\"218\" x=\"26.925\" xlink:href=\"data:image/png;base64,\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\" y=\"-8.740469\"/>\n   </g>\n   <g id=\"matplotlib.axis_1\">\n    <g id=\"xtick_1\">\n     <g id=\"line2d_1\">\n      <defs>\n       <path d=\"M 0 0 \nL 0 3.5 \n\" id=\"m8ef65e8a79\" style=\"stroke:#000000;stroke-width:0.8;\"/>\n      </defs>\n      <g>\n       <use style=\"stroke:#000000;stroke-width:0.8;\" x=\"28.62375\" xlink:href=\"#m8ef65e8a79\" y=\"226.740469\"/>\n      </g>\n     </g>\n     <g id=\"text_1\">\n      <!-- 0 -->\n      <g transform=\"translate(25.4425 241.338906)scale(0.1 -0.1)\">\n       <defs>\n        <path d=\"M 31.78125 66.40625 \nQ 24.171875 66.40625 20.328125 58.90625 \nQ 16.5 51.421875 16.5 36.375 \nQ 16.5 21.390625 20.328125 13.890625 \nQ 24.171875 6.390625 31.78125 6.390625 \nQ 39.453125 6.390625 43.28125 13.890625 \nQ 47.125 21.390625 47.125 36.375 \nQ 47.125 51.421875 43.28125 58.90625 \nQ 39.453125 66.40625 31.78125 66.40625 \nz\nM 31.78125 74.21875 \nQ 44.046875 74.21875 50.515625 64.515625 \nQ 56.984375 54.828125 56.984375 36.375 \nQ 56.984375 17.96875 50.515625 8.265625 \nQ 44.046875 -1.421875 31.78125 -1.421875 \nQ 19.53125 -1.421875 13.0625 8.265625 \nQ 6.59375 17.96875 6.59375 36.375 \nQ 6.59375 54.828125 13.0625 64.515625 \nQ 19.53125 74.21875 31.78125 74.21875 \nz\n\" id=\"DejaVuSans-48\"/>\n       </defs>\n       <use xlink:href=\"#DejaVuSans-48\"/>\n      </g>\n     </g>\n    </g>\n    <g id=\"xtick_2\">\n     <g id=\"line2d_2\">\n      <g>\n       <use style=\"stroke:#000000;stroke-width:0.8;\" x=\"62.59875\" xlink:href=\"#m8ef65e8a79\" y=\"226.740469\"/>\n      </g>\n     </g>\n     <g id=\"text_2\">\n      <!-- 10 -->\n      <g transform=\"translate(56.23625 241.338906)scale(0.1 -0.1)\">\n       <defs>\n        <path d=\"M 12.40625 8.296875 \nL 28.515625 8.296875 \nL 28.515625 63.921875 \nL 10.984375 60.40625 \nL 10.984375 69.390625 \nL 28.421875 72.90625 \nL 38.28125 72.90625 \nL 38.28125 8.296875 \nL 54.390625 8.296875 \nL 54.390625 0 \nL 12.40625 0 \nz\n\" id=\"DejaVuSans-49\"/>\n       </defs>\n       <use xlink:href=\"#DejaVuSans-49\"/>\n       <use x=\"63.623047\" xlink:href=\"#DejaVuSans-48\"/>\n      </g>\n     </g>\n    </g>\n    <g id=\"xtick_3\">\n     <g id=\"line2d_3\">\n      <g>\n       <use style=\"stroke:#000000;stroke-width:0.8;\" x=\"96.57375\" xlink:href=\"#m8ef65e8a79\" y=\"226.740469\"/>\n      </g>\n     </g>\n     <g id=\"text_3\">\n      <!-- 20 -->\n      <g transform=\"translate(90.21125 241.338906)scale(0.1 -0.1)\">\n       <defs>\n        <path d=\"M 19.1875 8.296875 \nL 53.609375 8.296875 \nL 53.609375 0 \nL 7.328125 0 \nL 7.328125 8.296875 \nQ 12.9375 14.109375 22.625 23.890625 \nQ 32.328125 33.6875 34.8125 36.53125 \nQ 39.546875 41.84375 41.421875 45.53125 \nQ 43.3125 49.21875 43.3125 52.78125 \nQ 43.3125 58.59375 39.234375 62.25 \nQ 35.15625 65.921875 28.609375 65.921875 \nQ 23.96875 65.921875 18.8125 64.3125 \nQ 13.671875 62.703125 7.8125 59.421875 \nL 7.8125 69.390625 \nQ 13.765625 71.78125 18.9375 73 \nQ 24.125 74.21875 28.421875 74.21875 \nQ 39.75 74.21875 46.484375 68.546875 \nQ 53.21875 62.890625 53.21875 53.421875 \nQ 53.21875 48.921875 51.53125 44.890625 \nQ 49.859375 40.875 45.40625 35.40625 \nQ 44.1875 33.984375 37.640625 27.21875 \nQ 31.109375 20.453125 19.1875 8.296875 \nz\n\" id=\"DejaVuSans-50\"/>\n       </defs>\n       <use xlink:href=\"#DejaVuSans-50\"/>\n       <use x=\"63.623047\" xlink:href=\"#DejaVuSans-48\"/>\n      </g>\n     </g>\n    </g>\n    <g id=\"xtick_4\">\n     <g id=\"line2d_4\">\n      <g>\n       <use style=\"stroke:#000000;stroke-width:0.8;\" x=\"130.54875\" xlink:href=\"#m8ef65e8a79\" y=\"226.740469\"/>\n      </g>\n     </g>\n     <g id=\"text_4\">\n      <!-- 30 -->\n      <g transform=\"translate(124.18625 241.338906)scale(0.1 -0.1)\">\n       <defs>\n        <path d=\"M 40.578125 39.3125 \nQ 47.65625 37.796875 51.625 33 \nQ 55.609375 28.21875 55.609375 21.1875 \nQ 55.609375 10.40625 48.1875 4.484375 \nQ 40.765625 -1.421875 27.09375 -1.421875 \nQ 22.515625 -1.421875 17.65625 -0.515625 \nQ 12.796875 0.390625 7.625 2.203125 \nL 7.625 11.71875 \nQ 11.71875 9.328125 16.59375 8.109375 \nQ 21.484375 6.890625 26.8125 6.890625 \nQ 36.078125 6.890625 40.9375 10.546875 \nQ 45.796875 14.203125 45.796875 21.1875 \nQ 45.796875 27.640625 41.28125 31.265625 \nQ 36.765625 34.90625 28.71875 34.90625 \nL 20.21875 34.90625 \nL 20.21875 43.015625 \nL 29.109375 43.015625 \nQ 36.375 43.015625 40.234375 45.921875 \nQ 44.09375 48.828125 44.09375 54.296875 \nQ 44.09375 59.90625 40.109375 62.90625 \nQ 36.140625 65.921875 28.71875 65.921875 \nQ 24.65625 65.921875 20.015625 65.03125 \nQ 15.375 64.15625 9.8125 62.3125 \nL 9.8125 71.09375 \nQ 15.4375 72.65625 20.34375 73.4375 \nQ 25.25 74.21875 29.59375 74.21875 \nQ 40.828125 74.21875 47.359375 69.109375 \nQ 53.90625 64.015625 53.90625 55.328125 \nQ 53.90625 49.265625 50.4375 45.09375 \nQ 46.96875 40.921875 40.578125 39.3125 \nz\n\" id=\"DejaVuSans-51\"/>\n       </defs>\n       <use xlink:href=\"#DejaVuSans-51\"/>\n       <use x=\"63.623047\" xlink:href=\"#DejaVuSans-48\"/>\n      </g>\n     </g>\n    </g>\n    <g id=\"xtick_5\">\n     <g id=\"line2d_5\">\n      <g>\n       <use style=\"stroke:#000000;stroke-width:0.8;\" x=\"164.52375\" xlink:href=\"#m8ef65e8a79\" y=\"226.740469\"/>\n      </g>\n     </g>\n     <g id=\"text_5\">\n      <!-- 40 -->\n      <g transform=\"translate(158.16125 241.338906)scale(0.1 -0.1)\">\n       <defs>\n        <path d=\"M 37.796875 64.3125 \nL 12.890625 25.390625 \nL 37.796875 25.390625 \nz\nM 35.203125 72.90625 \nL 47.609375 72.90625 \nL 47.609375 25.390625 \nL 58.015625 25.390625 \nL 58.015625 17.1875 \nL 47.609375 17.1875 \nL 47.609375 0 \nL 37.796875 0 \nL 37.796875 17.1875 \nL 4.890625 17.1875 \nL 4.890625 26.703125 \nz\n\" id=\"DejaVuSans-52\"/>\n       </defs>\n       <use xlink:href=\"#DejaVuSans-52\"/>\n       <use x=\"63.623047\" xlink:href=\"#DejaVuSans-48\"/>\n      </g>\n     </g>\n    </g>\n    <g id=\"xtick_6\">\n     <g id=\"line2d_6\">\n      <g>\n       <use style=\"stroke:#000000;stroke-width:0.8;\" x=\"198.49875\" xlink:href=\"#m8ef65e8a79\" y=\"226.740469\"/>\n      </g>\n     </g>\n     <g id=\"text_6\">\n      <!-- 50 -->\n      <g transform=\"translate(192.13625 241.338906)scale(0.1 -0.1)\">\n       <defs>\n        <path d=\"M 10.796875 72.90625 \nL 49.515625 72.90625 \nL 49.515625 64.59375 \nL 19.828125 64.59375 \nL 19.828125 46.734375 \nQ 21.96875 47.46875 24.109375 47.828125 \nQ 26.265625 48.1875 28.421875 48.1875 \nQ 40.625 48.1875 47.75 41.5 \nQ 54.890625 34.8125 54.890625 23.390625 \nQ 54.890625 11.625 47.5625 5.09375 \nQ 40.234375 -1.421875 26.90625 -1.421875 \nQ 22.3125 -1.421875 17.546875 -0.640625 \nQ 12.796875 0.140625 7.71875 1.703125 \nL 7.71875 11.625 \nQ 12.109375 9.234375 16.796875 8.0625 \nQ 21.484375 6.890625 26.703125 6.890625 \nQ 35.15625 6.890625 40.078125 11.328125 \nQ 45.015625 15.765625 45.015625 23.390625 \nQ 45.015625 31 40.078125 35.4375 \nQ 35.15625 39.890625 26.703125 39.890625 \nQ 22.75 39.890625 18.8125 39.015625 \nQ 14.890625 38.140625 10.796875 36.28125 \nz\n\" id=\"DejaVuSans-53\"/>\n       </defs>\n       <use xlink:href=\"#DejaVuSans-53\"/>\n       <use x=\"63.623047\" xlink:href=\"#DejaVuSans-48\"/>\n      </g>\n     </g>\n    </g>\n    <g id=\"xtick_7\">\n     <g id=\"line2d_7\">\n      <g>\n       <use style=\"stroke:#000000;stroke-width:0.8;\" x=\"232.47375\" xlink:href=\"#m8ef65e8a79\" y=\"226.740469\"/>\n      </g>\n     </g>\n     <g id=\"text_7\">\n      <!-- 60 -->\n      <g transform=\"translate(226.11125 241.338906)scale(0.1 -0.1)\">\n       <defs>\n        <path d=\"M 33.015625 40.375 \nQ 26.375 40.375 22.484375 35.828125 \nQ 18.609375 31.296875 18.609375 23.390625 \nQ 18.609375 15.53125 22.484375 10.953125 \nQ 26.375 6.390625 33.015625 6.390625 \nQ 39.65625 6.390625 43.53125 10.953125 \nQ 47.40625 15.53125 47.40625 23.390625 \nQ 47.40625 31.296875 43.53125 35.828125 \nQ 39.65625 40.375 33.015625 40.375 \nz\nM 52.59375 71.296875 \nL 52.59375 62.3125 \nQ 48.875 64.0625 45.09375 64.984375 \nQ 41.3125 65.921875 37.59375 65.921875 \nQ 27.828125 65.921875 22.671875 59.328125 \nQ 17.53125 52.734375 16.796875 39.40625 \nQ 19.671875 43.65625 24.015625 45.921875 \nQ 28.375 48.1875 33.59375 48.1875 \nQ 44.578125 48.1875 50.953125 41.515625 \nQ 57.328125 34.859375 57.328125 23.390625 \nQ 57.328125 12.15625 50.6875 5.359375 \nQ 44.046875 -1.421875 33.015625 -1.421875 \nQ 20.359375 -1.421875 13.671875 8.265625 \nQ 6.984375 17.96875 6.984375 36.375 \nQ 6.984375 53.65625 15.1875 63.9375 \nQ 23.390625 74.21875 37.203125 74.21875 \nQ 40.921875 74.21875 44.703125 73.484375 \nQ 48.484375 72.75 52.59375 71.296875 \nz\n\" id=\"DejaVuSans-54\"/>\n       </defs>\n       <use xlink:href=\"#DejaVuSans-54\"/>\n       <use x=\"63.623047\" xlink:href=\"#DejaVuSans-48\"/>\n      </g>\n     </g>\n    </g>\n   </g>\n   <g id=\"matplotlib.axis_2\">\n    <g id=\"ytick_1\">\n     <g id=\"line2d_8\">\n      <defs>\n       <path d=\"M 0 0 \nL -3.5 0 \n\" id=\"ma08c7725e3\" style=\"stroke:#000000;stroke-width:0.8;\"/>\n      </defs>\n      <g>\n       <use style=\"stroke:#000000;stroke-width:0.8;\" x=\"26.925\" xlink:href=\"#ma08c7725e3\" y=\"10.999219\"/>\n      </g>\n     </g>\n     <g id=\"text_8\">\n      <!-- 0 -->\n      <g transform=\"translate(13.5625 14.798437)scale(0.1 -0.1)\">\n       <use xlink:href=\"#DejaVuSans-48\"/>\n      </g>\n     </g>\n    </g>\n    <g id=\"ytick_2\">\n     <g id=\"line2d_9\">\n      <g>\n       <use style=\"stroke:#000000;stroke-width:0.8;\" x=\"26.925\" xlink:href=\"#ma08c7725e3\" y=\"44.974219\"/>\n      </g>\n     </g>\n     <g id=\"text_9\">\n      <!-- 10 -->\n      <g transform=\"translate(7.2 48.773437)scale(0.1 -0.1)\">\n       <use xlink:href=\"#DejaVuSans-49\"/>\n       <use x=\"63.623047\" xlink:href=\"#DejaVuSans-48\"/>\n      </g>\n     </g>\n    </g>\n    <g id=\"ytick_3\">\n     <g id=\"line2d_10\">\n      <g>\n       <use style=\"stroke:#000000;stroke-width:0.8;\" x=\"26.925\" xlink:href=\"#ma08c7725e3\" y=\"78.949219\"/>\n      </g>\n     </g>\n     <g id=\"text_10\">\n      <!-- 20 -->\n      <g transform=\"translate(7.2 82.748437)scale(0.1 -0.1)\">\n       <use xlink:href=\"#DejaVuSans-50\"/>\n       <use x=\"63.623047\" xlink:href=\"#DejaVuSans-48\"/>\n      </g>\n     </g>\n    </g>\n    <g id=\"ytick_4\">\n     <g id=\"line2d_11\">\n      <g>\n       <use style=\"stroke:#000000;stroke-width:0.8;\" x=\"26.925\" xlink:href=\"#ma08c7725e3\" y=\"112.924219\"/>\n      </g>\n     </g>\n     <g id=\"text_11\">\n      <!-- 30 -->\n      <g transform=\"translate(7.2 116.723437)scale(0.1 -0.1)\">\n       <use xlink:href=\"#DejaVuSans-51\"/>\n       <use x=\"63.623047\" xlink:href=\"#DejaVuSans-48\"/>\n      </g>\n     </g>\n    </g>\n    <g id=\"ytick_5\">\n     <g id=\"line2d_12\">\n      <g>\n       <use style=\"stroke:#000000;stroke-width:0.8;\" x=\"26.925\" xlink:href=\"#ma08c7725e3\" y=\"146.899219\"/>\n      </g>\n     </g>\n     <g id=\"text_12\">\n      <!-- 40 -->\n      <g transform=\"translate(7.2 150.698437)scale(0.1 -0.1)\">\n       <use xlink:href=\"#DejaVuSans-52\"/>\n       <use x=\"63.623047\" xlink:href=\"#DejaVuSans-48\"/>\n      </g>\n     </g>\n    </g>\n    <g id=\"ytick_6\">\n     <g id=\"line2d_13\">\n      <g>\n       <use style=\"stroke:#000000;stroke-width:0.8;\" x=\"26.925\" xlink:href=\"#ma08c7725e3\" y=\"180.874219\"/>\n      </g>\n     </g>\n     <g id=\"text_13\">\n      <!-- 50 -->\n      <g transform=\"translate(7.2 184.673437)scale(0.1 -0.1)\">\n       <use xlink:href=\"#DejaVuSans-53\"/>\n       <use x=\"63.623047\" xlink:href=\"#DejaVuSans-48\"/>\n      </g>\n     </g>\n    </g>\n    <g id=\"ytick_7\">\n     <g id=\"line2d_14\">\n      <g>\n       <use style=\"stroke:#000000;stroke-width:0.8;\" x=\"26.925\" xlink:href=\"#ma08c7725e3\" y=\"214.849219\"/>\n      </g>\n     </g>\n     <g id=\"text_14\">\n      <!-- 60 -->\n      <g transform=\"translate(7.2 218.648437)scale(0.1 -0.1)\">\n       <use xlink:href=\"#DejaVuSans-54\"/>\n       <use x=\"63.623047\" xlink:href=\"#DejaVuSans-48\"/>\n      </g>\n     </g>\n    </g>\n   </g>\n   <g id=\"patch_3\">\n    <path d=\"M 26.925 226.740469 \nL 26.925 9.300469 \n\" style=\"fill:none;stroke:#000000;stroke-linecap:square;stroke-linejoin:miter;stroke-width:0.8;\"/>\n   </g>\n   <g id=\"patch_4\">\n    <path d=\"M 244.365 226.740469 \nL 244.365 9.300469 \n\" style=\"fill:none;stroke:#000000;stroke-linecap:square;stroke-linejoin:miter;stroke-width:0.8;\"/>\n   </g>\n   <g id=\"patch_5\">\n    <path d=\"M 26.925 226.740469 \nL 244.365 226.740469 \n\" style=\"fill:none;stroke:#000000;stroke-linecap:square;stroke-linejoin:miter;stroke-width:0.8;\"/>\n   </g>\n   <g id=\"patch_6\">\n    <path d=\"M 26.925 9.300469 \nL 244.365 9.300469 \n\" style=\"fill:none;stroke:#000000;stroke-linecap:square;stroke-linejoin:miter;stroke-width:0.8;\"/>\n   </g>\n  </g>\n </g>\n <defs>\n  <clipPath id=\"p7fd30eed14\">\n   <rect height=\"217.44\" width=\"217.44\" x=\"26.925\" y=\"9.300469\"/>\n  </clipPath>\n </defs>\n</svg>\n",
      "image/png": "[encoded data removed]"
     },
     "metadata": {
      "needs_background": "light"
     }
    }
   ],
   "source": [
    "plt.imshow(np.log(jet_image),  cmap = 'Blues')"
   ]
  },
  {
   "cell_type": "code",
   "execution_count": 88,
   "metadata": {},
   "outputs": [
    {
     "output_type": "execute_result",
     "data": {
      "text/plain": [
       "(3568,)"
      ]
     },
     "metadata": {},
     "execution_count": 88
    }
   ],
   "source": [
    "etaRot.shape"
   ]
  },
  {
   "cell_type": "code",
   "execution_count": 86,
   "metadata": {},
   "outputs": [
    {
     "output_type": "execute_result",
     "data": {
      "text/plain": [
       "(100, 40, 13)"
      ]
     },
     "metadata": {},
     "execution_count": 86
    }
   ],
   "source": [
    "features.shape"
   ]
  },
  {
   "cell_type": "code",
   "execution_count": 77,
   "metadata": {},
   "outputs": [],
   "source": [
    "a = np.array([[1,2,3,0],\n",
    "     [4,5,6,0],\n",
    "     [7,0,8,9]])"
   ]
  },
  {
   "cell_type": "code",
   "execution_count": 78,
   "metadata": {},
   "outputs": [
    {
     "output_type": "execute_result",
     "data": {
      "text/plain": [
       "(array([0, 0, 0, 1, 1, 1, 2, 2, 2]), array([0, 1, 2, 0, 1, 2, 0, 2, 3]))"
      ]
     },
     "metadata": {},
     "execution_count": 78
    }
   ],
   "source": [
    "np.where(a!=0)"
   ]
  },
  {
   "cell_type": "code",
   "execution_count": 79,
   "metadata": {},
   "outputs": [
    {
     "output_type": "execute_result",
     "data": {
      "text/plain": [
       "array([1, 2, 3, 4, 5, 6, 7, 8, 9])"
      ]
     },
     "metadata": {},
     "execution_count": 79
    }
   ],
   "source": [
    "a[np.where(a!=0)[0],np.where(a!=0)[1]]"
   ]
  },
  {
   "cell_type": "code",
   "execution_count": null,
   "metadata": {},
   "outputs": [],
   "source": []
  }
 ]
}