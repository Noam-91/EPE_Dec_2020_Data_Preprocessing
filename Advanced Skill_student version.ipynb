{
 "metadata": {
  "language_info": {
   "codemirror_mode": {
    "name": "ipython",
    "version": 3
   },
   "file_extension": ".py",
   "mimetype": "text/x-python",
   "name": "python",
   "nbconvert_exporter": "python",
   "pygments_lexer": "ipython3",
   "version": "3.7.9-final"
  },
  "orig_nbformat": 2,
  "kernelspec": {
   "name": "python3",
   "display_name": "Python 3",
   "language": "python"
  }
 },
 "nbformat": 4,
 "nbformat_minor": 2,
 "cells": [
  {
   "source": [
    "# Advanced Skills\n",
    "## 1. Downsizing data with a specific ratio\n",
    "### 1) Introduction\n",
    "Have you thought that given data with 5 labels, you can also do a binary classification? For example, we have 5 jets: t, q, g, w, z. Now instead of 5 Tagger, we only want to do the T Tagger, which means all the other jets are clustered to not-T. In this case, if we directly use the data, it results in input imbalance: T is only 1/4 of not-T. Thus we need to downsize the data so that elements are relatively balanced.<br><br>\n",
    "Additionally, for testing, we usually use part of the data, so downsizing is very necessary.\n",
    "\n"
   ],
   "cell_type": "markdown",
   "metadata": {}
  },
  {
   "cell_type": "code",
   "execution_count": null,
   "metadata": {},
   "outputs": [],
   "source": [
    "import numpy as np\n",
    "import h5py\n",
    "import pandas as pd\n",
    "from tqdm import tqdm\n",
    "# TODO\n",
    "# load the data \"samples.h5\" and find out how many constituents are labbled as \"j_t\".\n",
    "# Hint: if a constituent belongs to t tagger, the value of \"j_t\" should be 1, otherwise 0.\n",
    "filPath = \"data/samples.h5\""
   ]
  },
  {
   "source": [
    "However, we cannot directly split this Series. Instead, we want to split the data by jets."
   ],
   "cell_type": "markdown",
   "metadata": {}
  },
  {
   "cell_type": "code",
   "execution_count": null,
   "metadata": {},
   "outputs": [],
   "source": [
    "# TODO\n",
    "# Find out the distribution of each kind of tagger.\n",
    "# Hint: for each jet, you only want to count it once.\n"
   ]
  },
  {
   "source": [
    "Now we have a dictionary in which keys are labels and values are correpsponding jet indices.<br>\n",
    "Let's take 10 for each jet."
   ],
   "cell_type": "markdown",
   "metadata": {}
  },
  {
   "cell_type": "code",
   "execution_count": null,
   "metadata": {},
   "outputs": [],
   "source": [
    "# Example: randomly take 10 w jets.\n",
    "jet_w = np.unique(df[df['j_w']==1]['j_index'])\n",
    "chosen_jets = np.random.choice(jet_w, size = 10, replace=False) \n",
    "# Replace=False => we won't take an element more than once.\n",
    "w_10 = df[df[\"j_index\"].isin(chosen_jets)]\n",
    "\n",
    "# TODO #1\n",
    "# Create a dataframe with 10 jets for each kind.\n",
    "# Hint: operate seperately and then concatenate.\n",
    "\n",
    "\n",
    "\n",
    "\n",
    "\n",
    "# TODO #2\n",
    "# Bonus: Try to create a dataset with 100 jets for total but with ratio t:q:g:z:w = 3:2:1:0:0.\n",
    "# Hint: change random size."
   ]
  },
  {
   "source": [
    "## 2. N-Constituents of Jets\n",
    "The amount of constituents varies in jets, ranging from 20 to more than 200. When we classify, we always expect to keep each jet containning the same number of constituents. For example, if we set nConstituents = 40, ranking by the transverse momentum (default), the first 40 constituents will be kept. If constituents in a jet are less than 40, we will use zero-padding."
   ],
   "cell_type": "markdown",
   "metadata": {}
  },
  {
   "cell_type": "code",
   "execution_count": null,
   "metadata": {},
   "outputs": [],
   "source": [
    "# TODO\n",
    "# How many constituents are in the jet with j_index=100139009?"
   ]
  },
  {
   "source": [
    "You are right if you got 35. But we want exact 40 slots for each jet, which means we need to do zero-padding for the last 5 slots."
   ],
   "cell_type": "markdown",
   "metadata": {}
  },
  {
   "cell_type": "code",
   "execution_count": null,
   "metadata": {},
   "outputs": [],
   "source": [
    "# Example: zero-padding [0,1,2] to [0,1,2,0,0]\n",
    "array = np.arange(0,3,1)\n",
    "\n",
    "# Create an zero array with expected shape (1,5).\n",
    "array_exp = np.zeros(5,dtype=int)           \n",
    "# copy the corresponding elements\n",
    "for i,ele in enumerate(array):\n",
    "    array_exp[i] = ele"
   ]
  },
  {
   "cell_type": "code",
   "execution_count": null,
   "metadata": {},
   "outputs": [],
   "source": [
    "# Example: Slice [0,1,2,3,4,5,6,7] to [0,1,2,3,4]\n",
    "array = np.arange(0,8,1)\n",
    "\n",
    "# Create an zero array with expected shape (1,5).\n",
    "array_exp = np.zeros(5,dtype=int)           \n",
    "# Add the corresponding elements\n",
    "array_exp = array[:5]+array_exp"
   ]
  },
  {
   "source": [
    "Now we know how to deal with the two circumstances: nConstituents is greater or lower than the expected number. First let's try integrate it into one method."
   ],
   "cell_type": "markdown",
   "metadata": {}
  },
  {
   "cell_type": "code",
   "execution_count": null,
   "metadata": {},
   "outputs": [],
   "source": [
    "# TODO\n",
    "# Write a method that can fit this array into the shape (2,5).\n",
    "# Hint: operate on each row and then combine them. (for loop)\n",
    "array = [[0,1,2],[0,1,2,3,4,5,6,7]]\n",
    "\n"
   ]
  },
  {
   "cell_type": "code",
   "execution_count": null,
   "metadata": {},
   "outputs": [],
   "source": [
    "# TODO\n",
    "# In the next step we will use the method we just learned to trim our data into the desired shape.\n",
    "# Hint: 1. Use \"j_index\" to identify jets. \n",
    "# 2. The expected output shape is in 3D: (mJets, nConstituents, kColumns), \n",
    "# so the zero array you create would be in size (nConstituents, kColumns)\n",
    "# 3. loop through jets, operate one by one and then combine."
   ]
  },
  {
   "source": [
    "## 3. Jet Clustering & Rotating\n",
    "### 1) Dependencies\n",
    "You need Linux to run \"pyjet\". This is the tutorial to install WSL: [WSL Tutorial](https://github.com/451488975/Anaconda_Setup/blob/master/CPU_with_WSL.ipynb)\n",
    "\n",
    "Make sure you have:\n",
    " - pyjet\n",
    "<br>\n",
    "\n",
    "### 2) Get low/high-level features\n",
    "Sometimes we have data with 4-momenta form, either (e,px,py,pz) or (pT,eta,phi,mass). But we need more, such as etaRel,phiRel ..."
   ],
   "cell_type": "markdown",
   "metadata": {}
  },
  {
   "cell_type": "code",
   "execution_count": null,
   "metadata": {},
   "outputs": [],
   "source": [
    "# TODO\n",
    "# Load and observe your data: columns, shape, datatype...\n",
    "# Answer the questions:\n",
    "# 1. how many jets are there?\n",
    "# 2. how many constituents are in each jet?\n",
    "# 3. Are all the jets are full? (no zero-paddings)\n",
    "# 4. What's the datatype for each feature\n",
    "# 5. What features are we gonna use to get transverse momentum, psudorapidity...\n",
    "filePath = \"data/4m_samples.h5\"\n"
   ]
  },
  {
   "cell_type": "code",
   "execution_count": null,
   "metadata": {},
   "outputs": [],
   "source": [
    "# TODO\n",
    "# Load with specific shape (nJets, 4, nConstituents)\n",
    "# Hint: read through the instruction of pands.read_hdf, \n",
    "# you will find a way to take just a part of rows and columns.\n"
   ]
  },
  {
   "cell_type": "code",
   "execution_count": null,
   "metadata": {},
   "outputs": [],
   "source": [
    "# I have to provide the answer for the last question, because all subsequent steps are based on this step. \n",
    "def _load (filePath, nJets, nConstituents):\n",
    "    '''\n",
    "    Returns:\n",
    "        momenta: (nJets, 4, nConstituents)\n",
    "    '''\n",
    "    cols = ['E_'+str(i) for i in range(nConstituents)]+ ['PX_'+str(i) for i in range(nConstituents)] + ['PX_'+str(i) for i in range(nConstituents)] + ['PY_'+str(i) for i in range(nConstituents)] + ['PZ_'+str(i) for i in range(nConstituents)] + ['is_signal_new']\n",
    "\n",
    "    df = pd.read_hdf(filePath,key='data',stop=nJets, columns = cols)\n",
    "    # Take all the 4 momentum from 200 particles in all jets and reshape them into one particle per row\n",
    "    momenta = df.iloc[:,:-1].to_numpy()\n",
    "    momenta = momenta.reshape(-1,nConstituents,4)\n",
    "    nJets = slice(nJets)\n",
    "    momenta = momenta[nJets, :nConstituents, :]\n",
    "    momenta = np.transpose(momenta, (0, 2, 1))\n",
    "    label = df['is_signal_new']\n",
    "    return momenta, label"
   ]
  },
  {
   "cell_type": "code",
   "execution_count": null,
   "metadata": {},
   "outputs": [],
   "source": [
    "# TODO\n",
    "# get low level features: pT, eta, phi, ... \n",
    "# Try to get as many feature as possible, the answer will be probided after camp.\n",
    "# Hint: reference page (https://www.lhc-closer.es/taking_a_closer_look_at_lhc/0.momentum)\n",
    "\n"
   ]
  },
  {
   "source": [
    "### 3) Cluster and Rotate\n",
    "Rotation is performed to remove the stochastic nature of the decay angle relative to the η − φ coordinate system. For two-body decay processes (such as the hadronic decay of a W boson) the direction connecting the axes of the leading two subjets can be rotated until the leading subject is directly above the subleading subjet.\n",
    "<br><br>\n",
    "More information about Jet-Image: [Paper](https://arxiv.org/pdf/1407.5675.pdf)"
   ],
   "cell_type": "markdown",
   "metadata": {}
  },
  {
   "cell_type": "code",
   "execution_count": null,
   "metadata": {},
   "outputs": [],
   "source": [
    "# Example: Clustering\n",
    "# For each event(jet), we cluster it to get subjets.\n",
    "# Assuming you already have one piece of jet called \"event\".\n",
    "# Unfortunately, it is not runable, due to the undefined parameter \"event\",\n",
    "# but if you complete the get features part, at least you have 'pT, eta, phi, mass', \n",
    "# you can load your results to run this code.\n",
    "# Notice that event is one jet, and features should follow the order 'pT, eta, phi, mass'.\n",
    "from pyjet import cluster\n",
    "flattened_event = np.core.records.fromarrays( [event[:,0],event[:,1],event[:,2],event[:,3]], names= 'pT, eta, phi, mass' , formats = 'f8, f8, f8,f8')\n",
    "sequence = cluster(flattened_event, R=R0, p= p)\n",
    "jets = sequence.inclusive_jets()"
   ]
  },
  {
   "source": [
    "If you get error about pyjet, please check wheter you are using Linux system. WSL is recommmened."
   ],
   "cell_type": "markdown",
   "metadata": {}
  },
  {
   "cell_type": "code",
   "execution_count": null,
   "metadata": {},
   "outputs": [],
   "source": [
    "# TODO\n",
    "# Try clustering one piece of jet from your results."
   ]
  },
  {
   "source": [
    "Now we have the four features of subjets. We want to put the leading subjet at the origin, and the subleading subjet at -pi/2\n"
   ],
   "cell_type": "markdown",
   "metadata": {}
  },
  {
   "cell_type": "code",
   "execution_count": null,
   "metadata": {},
   "outputs": [],
   "source": [
    "# Example: Rotation\n",
    "pT = event[:, 0]\n",
    "eta = event[:, 1]\n",
    "phi = event[:, 2]\n",
    "mass = event[:, 3]\n",
    "# shifts all data with respect to the leading subjet so that\n",
    "# the Jet Image is centerd at the origin (eta,phi) = (0,0).\n",
    "def deltaPhi(phi1,phi2):\n",
    "    # Make sure it in the range (-pi, pi)\n",
    "    x = phi1-phi2\n",
    "    while x>= np.pi: x -= np.pi*2.\n",
    "    while x< -np.pi: x += np.pi*2.\n",
    "    return x\n",
    "\n",
    "eta -= jets[0].eta\n",
    "phi = np.array( [deltaPhi(i,jets[0].phi) for i in phi])\n",
    "\n",
    "# Rotate the jet image such that the second leading\n",
    "# subjet is located at -pi/2\n",
    "s1x, s1y = jets[1].eta -jets[0].eta, deltaPhi(jets[1].phi,jets[0].phi)\n",
    "\n",
    "theta = np.arctan2(s1y, s1x)\n",
    "if theta < 0.0:\n",
    "    theta += 2 * np.pi\n",
    "def rotate(x, y, a):\n",
    "    xp = x * np.cos(a) - y * np.sin(a)\n",
    "    yp = x * np.sin(a) + y * np.cos(a)\n",
    "    return xp, yp\n",
    "etaRot, phiRot = rotate(eta, phi, np.pi - theta)"
   ]
  },
  {
   "cell_type": "code",
   "execution_count": null,
   "metadata": {},
   "outputs": [],
   "source": [
    "# TODO\n",
    "# Try to cluster and rotate every jet to get etaRot and phiRot."
   ]
  },
  {
   "source": [
    "### 4) Visualization\n",
    "Let's review how to plot Jet Image.<br>\n",
    "In this case, we are provided with data with zero-paddings. We need to eliminate them before ploting, since zeros would lead to nan for eta and phi."
   ],
   "cell_type": "markdown",
   "metadata": {}
  },
  {
   "cell_type": "code",
   "execution_count": null,
   "metadata": {},
   "outputs": [],
   "source": [
    "# TODO\n",
    "# Find out the indices where pT=0 from the features you get previously.\n",
    "# Hint: np.where()"
   ]
  },
  {
   "cell_type": "code",
   "execution_count": null,
   "metadata": {},
   "outputs": [],
   "source": [
    "# TODO\n",
    "# get all the non-zero (etaRot,phiRot,pT) set using conditional slicing.\n",
    "# And then plot a 2D-histogram."
   ]
  }
 ]
}