{
 "metadata": {
  "language_info": {
   "codemirror_mode": {
    "name": "ipython",
    "version": 3
   },
   "file_extension": ".py",
   "mimetype": "text/x-python",
   "name": "python",
   "nbconvert_exporter": "python",
   "pygments_lexer": "ipython3",
   "version": "3.7.9-final"
  },
  "orig_nbformat": 2,
  "kernelspec": {
   "name": "python3",
   "display_name": "Python 3",
   "language": "python"
  }
 },
 "nbformat": 4,
 "nbformat_minor": 2,
 "cells": [
  {
   "source": [
    "# Advanced Skills"
   ],
   "cell_type": "markdown",
   "metadata": {}
  },
  {
   "source": [
    "## 1. Downsizing data with a specific ratio"
   ],
   "cell_type": "markdown",
   "metadata": {}
  },
  {
   "source": [
    "### 1) Introduction\n",
    "Have you thought that given data with 5 labels, you can also do a binary classification? For example, we have 5 jets: t, q, g, w, z. Now instead of 5 Tagger, we only want to do the T Tagger, which means all the other jets are clustered to not-T. In this case, if we directly use the data, it results in input imbalance: T is only 1/4 of not-T. Thus we need to downsize the data so that elements are relatively balanced.<br><br>\n",
    "Additionally, for testing, we usually use part of the data, so downsizing is very necessary.\n",
    "\n"
   ],
   "cell_type": "markdown",
   "metadata": {}
  },
  {
   "source": [
    "### 2) Code\n",
    "Generally we use the conditional silicing in pandas to accomplish this task."
   ],
   "cell_type": "markdown",
   "metadata": {}
  },
  {
   "cell_type": "code",
   "execution_count": 6,
   "metadata": {},
   "outputs": [],
   "source": [
    "import numpy as np\n",
    "import h5py\n",
    "import pandas as pd\n",
    "from tqdm import tqdm\n",
    "\n",
    "# load data\n",
    "load_path = \"data/samples.h5\"\n",
    "df = pd.read_hdf(load_path, key=\"data\")   "
   ]
  },
  {
   "cell_type": "code",
   "execution_count": 7,
   "metadata": {},
   "outputs": [
    {
     "output_type": "stream",
     "name": "stdout",
     "text": [
      "There are 6997 constituents of T jets.\n"
     ]
    }
   ],
   "source": [
    "# Locate the data who meets the condition\n",
    "tJets = df[df['j_t']==1]\n",
    "\n",
    "print(\"There are %d constituents of T jets.\" %(tJets.shape[0]))"
   ]
  },
  {
   "source": [
    "However, we cannot directly split this Series. Instead, we want to split the data by jets."
   ],
   "cell_type": "markdown",
   "metadata": {}
  },
  {
   "cell_type": "code",
   "execution_count": 8,
   "metadata": {},
   "outputs": [],
   "source": [
    "labels=['j_t','j_q','j_g','j_w','j_z']\n",
    "jet_dict = {}\n",
    "for label in labels:\n",
    "    jet_dict[label] = np.unique(df[df[label]==1]['j_index'])"
   ]
  },
  {
   "source": [
    "Now we have a dictionary in which keys are labels and values are correpsponding jet indices.<br>\n",
    "Now lets take 10 for each jet."
   ],
   "cell_type": "markdown",
   "metadata": {}
  },
  {
   "cell_type": "code",
   "execution_count": 9,
   "metadata": {},
   "outputs": [
    {
     "output_type": "stream",
     "name": "stdout",
     "text": [
      "<class 'pandas.core.frame.DataFrame'>\nInt64Index: 2540 entries, 1440 to 22296\nData columns (total 79 columns):\n #   Column             Non-Null Count  Dtype  \n---  ------             --------------  -----  \n 0   index              2540 non-null   object \n 1   j_ptfrac           2540 non-null   float32\n 2   j_pt               2540 non-null   float32\n 3   j_eta              2540 non-null   float32\n 4   j_mass             2540 non-null   float32\n 5   j_tau1_b1          2540 non-null   float32\n 6   j_tau2_b1          2540 non-null   float32\n 7   j_tau3_b1          2540 non-null   float32\n 8   j_tau1_b2          2540 non-null   float32\n 9   j_tau2_b2          2540 non-null   float32\n 10  j_tau3_b2          2540 non-null   float32\n 11  j_tau32_b1         2540 non-null   float32\n 12  j_tau32_b2         2540 non-null   float32\n 13  j_zlogz            2540 non-null   float32\n 14  j_c1_b0            2540 non-null   float32\n 15  j_c1_b1            2540 non-null   float32\n 16  j_c1_b2            2540 non-null   float32\n 17  j_c2_b1            2540 non-null   float32\n 18  j_c2_b2            2540 non-null   float32\n 19  j_d2_b1            2540 non-null   float32\n 20  j_d2_b2            2540 non-null   float32\n 21  j_d2_a1_b1         2540 non-null   float32\n 22  j_d2_a1_b2         2540 non-null   float32\n 23  j_m2_b1            2540 non-null   float32\n 24  j_m2_b2            2540 non-null   float32\n 25  j_n2_b1            2540 non-null   float32\n 26  j_n2_b2            2540 non-null   float32\n 27  j_tau1_b1_mmdt     2540 non-null   float32\n 28  j_tau2_b1_mmdt     2540 non-null   float32\n 29  j_tau3_b1_mmdt     2540 non-null   float32\n 30  j_tau1_b2_mmdt     2540 non-null   float32\n 31  j_tau2_b2_mmdt     2540 non-null   float32\n 32  j_tau3_b2_mmdt     2540 non-null   float32\n 33  j_tau32_b1_mmdt    2540 non-null   float32\n 34  j_tau32_b2_mmdt    2540 non-null   float32\n 35  j_c1_b0_mmdt       2540 non-null   float32\n 36  j_c1_b1_mmdt       2540 non-null   float32\n 37  j_c1_b2_mmdt       2540 non-null   float32\n 38  j_c2_b1_mmdt       2540 non-null   float32\n 39  j_c2_b2_mmdt       2540 non-null   float32\n 40  j_d2_b1_mmdt       2540 non-null   float32\n 41  j_d2_b2_mmdt       2540 non-null   float32\n 42  j_d2_a1_b1_mmdt    2540 non-null   float32\n 43  j_d2_a1_b2_mmdt    2540 non-null   float32\n 44  j_m2_b1_mmdt       2540 non-null   float32\n 45  j_m2_b2_mmdt       2540 non-null   float32\n 46  j_n2_b1_mmdt       2540 non-null   float32\n 47  j_n2_b2_mmdt       2540 non-null   float32\n 48  j_mass_trim        2540 non-null   float32\n 49  j_mass_mmdt        2540 non-null   float32\n 50  j_mass_prun        2540 non-null   float32\n 51  j_mass_sdb2        2540 non-null   float32\n 52  j_mass_sdm1        2540 non-null   float32\n 53  j_multiplicity     2540 non-null   float32\n 54  j1_px              2540 non-null   float32\n 55  j1_py              2540 non-null   float32\n 56  j1_pz              2540 non-null   float32\n 57  j1_e               2540 non-null   float32\n 58  j1_pdgid           2540 non-null   float32\n 59  j1_erel            2540 non-null   float32\n 60  j1_pt              2540 non-null   float32\n 61  j1_ptrel           2540 non-null   float32\n 62  j1_eta             2540 non-null   float32\n 63  j1_etarel          2540 non-null   float32\n 64  j1_etarot          2540 non-null   float32\n 65  j1_phi             2540 non-null   float32\n 66  j1_phirel          2540 non-null   float32\n 67  j1_phirot          2540 non-null   float32\n 68  j1_deltaR          2540 non-null   float32\n 69  j1_costheta        2540 non-null   float32\n 70  j1_costhetarel     2540 non-null   float32\n 71  j1_e1mcosthetarel  2540 non-null   float32\n 72  j_g                2540 non-null   object \n 73  j_q                2540 non-null   object \n 74  j_w                2540 non-null   object \n 75  j_z                2540 non-null   object \n 76  j_t                2540 non-null   object \n 77  j_undef            2540 non-null   object \n 78  j_index            2540 non-null   object \ndtypes: float32(71), object(8)\nmemory usage: 883.0+ KB\n"
     ]
    }
   ],
   "source": [
    "jet_size = np.repeat([10],5)\n",
    "df100 = pd.DataFrame()\n",
    "\n",
    "for label, indices in jet_dict.items():\n",
    "    chosen_jets = np.random.choice(indices,size=jet_size[labels.index(label)], replace=False)\n",
    "    temp_df = df[df['j_index'].isin(chosen_jets)]\n",
    "    df100 = pd.concat([df100,temp_df],axis=0)\n",
    "\n",
    "df100.info()"
   ]
  },
  {
   "source": [
    "Here we have a dataset with 100 jets for each category."
   ],
   "cell_type": "markdown",
   "metadata": {}
  },
  {
   "source": [
    "### 3) Excercise\n",
    "Try to create a dataset with 500 jets for total but with ratio t:q:g:z:w = 3:2:1:0:0."
   ],
   "cell_type": "markdown",
   "metadata": {}
  },
  {
   "source": [
    "## 2. N-Constituents of Jets\n",
    "The amount of constituents varies in jets, ranging from 20 to more than 200. When we classify, we always expect to keep each jet containning the same number of constituents. For example, if we set nConstituents = 40, ranking by the transverse momentum (default), the first 40 constituents will be kept. If constituents in a jet are less than 40, we will use zero-padding."
   ],
   "cell_type": "markdown",
   "metadata": {}
  },
  {
   "cell_type": "code",
   "execution_count": 10,
   "metadata": {},
   "outputs": [],
   "source": [
    "def data_transform (nConstituents, data):\n",
    "    kColumns = data.columns.shape[0]\n",
    "\n",
    "    # we expect the output shape (mJets, nConstituents, kColumns)\n",
    "    jet_list = list(set(data['j_index']))\n",
    "    data_expected = []\n",
    "\n",
    "    for jet in tqdm(jet_list):\n",
    "        # Zero padding for insufficient jets. \n",
    "        # So we create a empty array and add signals in.\n",
    "        jet_frame = np.zeros((nConstituents, kColumns))\n",
    "        jet_temp = data[data['j_index']==jet].values\n",
    "        if (jet_temp.shape[0]<nConstituents):\n",
    "            for i, constituent in enumerate(jet_temp):\n",
    "                jet_frame[i] = constituent\n",
    "        else:\n",
    "            jet_frame = jet_temp[:nConstituents] + jet_frame\n",
    "        data_expected.append(jet_frame)\n",
    "    # \"j_index\" is useless for machine learning part. Drop it!\n",
    "\n",
    "    return np.array(data_expected)[:,:,:-1]"
   ]
  },
  {
   "source": [
    "## 3. Jet Clustering & Rotating\n",
    "### 1) Dependencies\n",
    "You need Linux to run \"pyjet\". This is the tutorial to install WSL: [WSL Tutorial](https://github.com/451488975/Anaconda_Setup/blob/master/CPU_with_WSL.ipynb)\n",
    "\n",
    "Make sure you have:\n",
    " - pyjet\n",
    "<br>\n",
    "\n",
    "### 2) Get low/high-level features\n",
    "Sometimes we have data with 4-momenta form, either (e,px,py,pz) or (pT,eta,phi,mass). But we need more, such as etaRel,phiRel ..."
   ],
   "cell_type": "markdown",
   "metadata": {}
  },
  {
   "cell_type": "code",
   "execution_count": 11,
   "metadata": {
    "tags": []
   },
   "outputs": [
    {
     "output_type": "error",
     "ename": "ModuleNotFoundError",
     "evalue": "No module named 'pyjet'",
     "traceback": [
      "\u001b[1;31m---------------------------------------------------------------------------\u001b[0m",
      "\u001b[1;31mModuleNotFoundError\u001b[0m                       Traceback (most recent call last)",
      "\u001b[1;32m<ipython-input-11-ba7921f9c1d7>\u001b[0m in \u001b[0;36m<module>\u001b[1;34m\u001b[0m\n\u001b[1;32m----> 1\u001b[1;33m \u001b[1;32mfrom\u001b[0m \u001b[0mpyjet\u001b[0m \u001b[1;32mimport\u001b[0m \u001b[0mcluster\u001b[0m\u001b[1;33m\u001b[0m\u001b[1;33m\u001b[0m\u001b[0m\n\u001b[0m\u001b[0;32m      2\u001b[0m \u001b[1;33m\u001b[0m\u001b[0m\n\u001b[0;32m      3\u001b[0m \u001b[1;32mdef\u001b[0m \u001b[0m_load\u001b[0m \u001b[1;33m(\u001b[0m\u001b[0mfilePath\u001b[0m\u001b[1;33m,\u001b[0m \u001b[0mnJets\u001b[0m\u001b[1;33m=\u001b[0m\u001b[1;36m200000\u001b[0m\u001b[1;33m,\u001b[0m \u001b[0mnConstituents\u001b[0m\u001b[1;33m=\u001b[0m\u001b[1;36m40\u001b[0m\u001b[1;33m)\u001b[0m\u001b[1;33m:\u001b[0m\u001b[1;33m\u001b[0m\u001b[1;33m\u001b[0m\u001b[0m\n\u001b[0;32m      4\u001b[0m     '''\n\u001b[0;32m      5\u001b[0m     \u001b[0mReturns\u001b[0m\u001b[1;33m:\u001b[0m\u001b[1;33m\u001b[0m\u001b[1;33m\u001b[0m\u001b[0m\n",
      "\u001b[1;31mModuleNotFoundError\u001b[0m: No module named 'pyjet'"
     ]
    }
   ],
   "source": [
    "from pyjet import cluster\n",
    "\n",
    "def _load (filePath, nJets=200000, nConstituents=40):\n",
    "    '''\n",
    "    Returns:\n",
    "        momenta: (nJets, 4, nConstituents)\n",
    "    '''\n",
    "    cols = ['E_'+str(i) for i in range(nConstituents)]+ ['PX_'+str(i) for i in range(nConstituents)] + ['PX_'+str(i) for i in range(nConstituents)] + ['PY_'+str(i) for i in range(nConstituents)] + ['PZ_'+str(i) for i in range(nConstituents)] + ['is_signal_new']\n",
    "\n",
    "    df = pd.read_hdf(filePath,key='data',stop=nJets, columns = cols)\n",
    "    # Take all the 4 momentum from 200 particles in all jets and reshape them into one particle per row\n",
    "    momenta = df.iloc[:,:-1].to_numpy()\n",
    "    momenta = momenta.reshape(-1,nConstituents,4)\n",
    "    nJets = slice(nJets)\n",
    "    momenta = momenta[nJets, :nConstituents, :]\n",
    "    momenta = np.transpose(momenta, (0, 2, 1))\n",
    "    label = df['is_signal_new']\n",
    "    return momenta, label"
   ]
  },
  {
   "cell_type": "code",
   "execution_count": 3,
   "metadata": {},
   "outputs": [],
   "source": [
    "filePath = \"data/4m_samples.h5\"\n",
    "nJets = 100\n",
    "nConstituents = 40\n",
    "momenta,labels = _load(filePath,nJets , nConstituents)\n",
    "\n"
   ]
  },
  {
   "cell_type": "code",
   "execution_count": 4,
   "metadata": {},
   "outputs": [],
   "source": [
    "def _getFeatures (momenta,nConstituents):\n",
    "    # Jet features\n",
    "    jetMomenta = np.sum(momenta, axis=2)\n",
    "    jetPt = np.linalg.norm(jetMomenta[:, 1:3], axis=1)[..., np.newaxis]\n",
    "    jetE = jetMomenta[:, 0][..., np.newaxis]\n",
    "    jetP = np.linalg.norm(jetMomenta[:, 1:], axis=1)\n",
    "    jetEta = 0.5 * np.log((jetP + jetMomenta[:, 3]) / (jetP - jetMomenta[:, 3]))[..., np.newaxis]\n",
    "    jetPhi = np.arctan2(jetMomenta[:, 2], jetMomenta[:, 1])[..., np.newaxis]\n",
    "    jetTheta = 2*np.arctan(np.exp(-jetEta))\n",
    "    # Copy nConstituents times to match the shape (nJets, nConstituents).\n",
    "    jetPt = np.tile(jetPt,nConstituents)\n",
    "    jetE = np.tile(jetE,nConstituents)\n",
    "    jetEta = np.tile(jetEta,nConstituents)\n",
    "    jetPhi = np.tile(jetPhi,nConstituents)\n",
    "\n",
    "    # Constituent features\n",
    "    # delta eta, delta phi, log pT, log E,log pT / pTjet, log E / Ejet, delta R\n",
    "    pT = np.linalg.norm(momenta[:, 1:3, :], axis=1)\n",
    "    e = momenta[:, 0, :]\n",
    "    p = np.linalg.norm(momenta[:, 1:, :], axis=1)\n",
    "    mass = e**2- p**2\n",
    "    # eta = 0.5 * np.log((p + momenta[:, 3, :]) / (p - momenta[:, 3, :]))\n",
    "    eta = np.arcsinh(momenta[:,3,:]/pT)\n",
    "    etaRel = eta - jetEta\n",
    "    phi = np.arctan2(momenta[:, 2, :], momenta[:, 1, :])\n",
    "    phiRel = np.unwrap(phi - jetPhi)\n",
    "    dR = np.sqrt(phi ** 2 + eta ** 2)\n",
    "    theta = 2*np.arctan(np.exp(-eta))\n",
    "    cosThetaRel = np.cos(theta-jetTheta)\n",
    "    \n",
    "    # Concatenate\n",
    "    # features = np.stack([jetPt, jetE, jetEta, jetPhi, pT, mass, e, eta, etaRel, phi, phiRel, dR, cosThetaRel],axis=-1)\n",
    "    features = np.stack([pT,eta,phi,mass, etaRel, phiRel, e, dR, cosThetaRel, jetPt, jetE, jetEta, jetPhi],axis=-1)\n",
    "    return features"
   ]
  },
  {
   "cell_type": "code",
   "execution_count": 6,
   "metadata": {},
   "outputs": [
    {
     "output_type": "error",
     "ename": "NameError",
     "evalue": "name '_getFeatures' is not defined",
     "traceback": [
      "\u001b[1;31m---------------------------------------------------------------------------\u001b[0m",
      "\u001b[1;31mNameError\u001b[0m                                 Traceback (most recent call last)",
      "\u001b[1;32m<ipython-input-6-1dd3aee8761d>\u001b[0m in \u001b[0;36m<module>\u001b[1;34m\u001b[0m\n\u001b[1;32m----> 1\u001b[1;33m \u001b[0mfeatures\u001b[0m \u001b[1;33m=\u001b[0m \u001b[0m_getFeatures\u001b[0m\u001b[1;33m(\u001b[0m\u001b[0mmomenta\u001b[0m\u001b[1;33m,\u001b[0m\u001b[0mnConstituents\u001b[0m\u001b[1;33m)\u001b[0m\u001b[1;33m\u001b[0m\u001b[1;33m\u001b[0m\u001b[0m\n\u001b[0m",
      "\u001b[1;31mNameError\u001b[0m: name '_getFeatures' is not defined"
     ]
    }
   ],
   "source": [
    "features = _getFeatures(momenta,nConstituents)"
   ]
  },
  {
   "source": [
    "### 3) Cluster and Rotate\n",
    "Rotation is performed to remove the stochastic nature of the decay angle relative to the η − φ coordinate system. For two-body decay processes (such as the hadronic decay of a W boson) the direction connecting the axes of the leading two subjets can be rotated until the leading subject is directly above the subleading subjet.\n",
    "<br><br>\n",
    "More information about Jet-Image: [Paper](https://arxiv.org/pdf/1407.5675.pdf)"
   ],
   "cell_type": "markdown",
   "metadata": {}
  },
  {
   "cell_type": "code",
   "execution_count": 8,
   "metadata": {},
   "outputs": [],
   "source": [
    "def deltaPhi(phi1,phi2):\n",
    "    # Make sure it in the range (-pi, pi)\n",
    "    x = phi1-phi2\n",
    "    while x>= np.pi: x -= np.pi*2.\n",
    "    while x< -np.pi: x += np.pi*2.\n",
    "    return x\n",
    "\n",
    "def rotate(x, y, a):\n",
    "    xp = x * np.cos(a) - y * np.sin(a)\n",
    "    yp = x * np.sin(a) + y * np.cos(a)\n",
    "    return xp, yp\n",
    "\n",
    "def _clusterAndRotate (event, R0, ep=False, p=-1):\n",
    "    '''\n",
    "    R: Clustering radius for the main jets\n",
    "    p = -1, 0, 1 => anti-kt, C/A, kt Algorithm\n",
    "    ep = False, True => (px,py,pz,e) , (pT,eta,phi,mass)\n",
    "    '''\n",
    "    flattened_event = np.core.records.fromarrays( [event[:,0],event[:,1],event[:,2],event[:,3]], names= 'pT, eta, phi, mass' , formats = 'f8, f8, f8,f8')\n",
    "    sequence = cluster(flattened_event, R=R0, p= p)\n",
    "    jets = sequence.inclusive_jets()\n",
    "\n",
    "    if len(jets)<2:\n",
    "        return []\n",
    "    else:\n",
    "        subjet_data = event\n",
    "        subjet_array = jets\n",
    "\n",
    "    pT = subjet_data[:, 0]\n",
    "    eta = subjet_data[:, 1]\n",
    "    phi = subjet_data[:, 2]\n",
    "    mass = subjet_data[:, 3]\n",
    "\n",
    "    # shifts all data with respect to the leading subjet so that\n",
    "    # the Jet Image is centerd at the origin (eta,phi) = (0,0).\n",
    "    eta -= subjet_array[0].eta\n",
    "    phi = np.array( [deltaPhi(i,subjet_array[0].phi) for i in phi])\n",
    "\n",
    "    # Rotate the jet image such that the second leading\n",
    "    # subjet is located at -pi/2\n",
    "    s1x, s1y = subjet_array[1].eta - subjet_array[0].eta, deltaPhi(subjet_array[1].phi,subjet_array[0].phi)\n",
    "\n",
    "    theta = np.arctan2(s1y, s1x)\n",
    "    if theta < 0.0:\n",
    "        theta += 2 * np.pi\n",
    "    etaRot, phiRot = rotate(eta, phi, np.pi - theta)\n",
    "    \n",
    "    return etaRot, phiRot\n",
    "\n",
    "def getRot (features,R0,p=-1,ep=False):\n",
    "    etaRot = []\n",
    "    phiRot = []\n",
    "    for i in tqdm(range(features.shape[0])):\n",
    "        event = features[i,:,:4]\n",
    "        eta_R,phi_R = _clusterAndRotate(event,R0)\n",
    "        etaRot.append(eta_R)\n",
    "        phiRot.append(phi_R)\n",
    "\n",
    "    features = np.append(features,np.expand_dims(etaRot,axis=2),axis=2)\n",
    "    features = np.append(features,np.expand_dims(phiRot,axis=2),axis=2)\n",
    "    return features"
   ]
  },
  {
   "cell_type": "code",
   "execution_count": 10,
   "metadata": {},
   "outputs": [
    {
     "output_type": "stream",
     "name": "stderr",
     "text": [
      "100%|██████████| 100/100 [00:00<00:00, 4421.90it/s]\n"
     ]
    }
   ],
   "source": [
    "features = getRot(features,R0=0.2,p=-1)"
   ]
  },
  {
   "source": [
    "### 4) Visualization\n",
    "Let's review how to plot Jet Image."
   ],
   "cell_type": "markdown",
   "metadata": {}
  },
  {
   "cell_type": "code",
   "execution_count": null,
   "metadata": {},
   "outputs": [],
   "source": []
  },
  {
   "cell_type": "code",
   "execution_count": 16,
   "metadata": {},
   "outputs": [],
   "source": [
    "from scipy.stats import binned_statistic_2d\n",
    "import matplotlib.pyplot as plt\n",
    "def getImage (features,R=1.2,bins=64):\n",
    "    validIndices = np.where(features[:,:,0]!=0)\n",
    "    etaRot = features[validIndices[0],validIndices[1],-2]\n",
    "    phiRot = features[validIndices[0],validIndices[1],-1]\n",
    "    pT = features[validIndices[0],validIndices[1],0]\n",
    "\n",
    "    ranges = np.array([[-R,R],[-R,R]])\n",
    "\n",
    "    # Sum energy deposits in each bin\n",
    "    digitized = binned_statistic_2d(etaRot, phiRot, pT, statistic=\"sum\", bins=bins, range= ranges)\n",
    "    jet_image = digitized.statistic\n",
    "    # Reverse the y axis, because it originally points downward.\n",
    "    jet_image = jet_image[::-1,:]\n",
    "\n",
    "    return jet_image\n",
    "\n",
    "def plotImage (jet_image):\n",
    "    # Take log to zoom in.\n",
    "    plt.imshow(np.log(jet_image), extent = [-1.2,1.2,-1.2,1.2], cmap = 'Blues')"
   ]
  },
  {
   "cell_type": "code",
   "execution_count": 17,
   "metadata": {},
   "outputs": [
    {
     "output_type": "display_data",
     "data": {
      "text/plain": "<Figure size 432x288 with 1 Axes>",
      "image/svg+xml": "<?xml version=\"1.0\" encoding=\"utf-8\" standalone=\"no\"?>\n<!DOCTYPE svg PUBLIC \"-//W3C//DTD SVG 1.1//EN\"\n  \"http://www.w3.org/Graphics/SVG/1.1/DTD/svg11.dtd\">\n<!-- Created with matplotlib (https://matplotlib.org/) -->\n<svg height=\"248.518125pt\" version=\"1.1\" viewBox=\"0 0 263.122812 248.518125\" width=\"263.122812pt\" xmlns=\"http://www.w3.org/2000/svg\" xmlns:xlink=\"http://www.w3.org/1999/xlink\">\n <metadata>\n  <rdf:RDF xmlns:cc=\"http://creativecommons.org/ns#\" xmlns:dc=\"http://purl.org/dc/elements/1.1/\" xmlns:rdf=\"http://www.w3.org/1999/02/22-rdf-syntax-ns#\">\n   <cc:Work>\n    <dc:type rdf:resource=\"http://purl.org/dc/dcmitype/StillImage\"/>\n    <dc:date>2020-12-05T22:31:51.033231</dc:date>\n    <dc:format>image/svg+xml</dc:format>\n    <dc:creator>\n     <cc:Agent>\n      <dc:title>Matplotlib v3.3.2, https://matplotlib.org/</dc:title>\n     </cc:Agent>\n    </dc:creator>\n   </cc:Work>\n  </rdf:RDF>\n </metadata>\n <defs>\n  <style type=\"text/css\">*{stroke-linecap:butt;stroke-linejoin:round;}</style>\n </defs>\n <g id=\"figure_1\">\n  <g id=\"patch_1\">\n   <path d=\"M 0 248.518125 \nL 263.122812 248.518125 \nL 263.122812 0 \nL 0 0 \nz\n\" style=\"fill:none;\"/>\n  </g>\n  <g id=\"axes_1\">\n   <g id=\"patch_2\">\n    <path d=\"M 38.482813 224.64 \nL 255.922813 224.64 \nL 255.922813 7.2 \nL 38.482813 7.2 \nz\n\" style=\"fill:#ffffff;\"/>\n   </g>\n   <g clip-path=\"url(#p06157c1945)\">\n    <image height=\"218\" id=\"image146dd878b2\" transform=\"scale(1 -1)translate(0 -218)\" width=\"218\" x=\"38.482813\" xlink:href=\"data:image/png;base64,\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\" y=\"-6.64\"/>\n   </g>\n   <g id=\"matplotlib.axis_1\">\n    <g id=\"xtick_1\">\n     <g id=\"line2d_1\">\n      <defs>\n       <path d=\"M 0 0 \nL 0 3.5 \n\" id=\"m6a84640fc8\" style=\"stroke:#000000;stroke-width:0.8;\"/>\n      </defs>\n      <g>\n       <use style=\"stroke:#000000;stroke-width:0.8;\" x=\"56.602812\" xlink:href=\"#m6a84640fc8\" y=\"224.64\"/>\n      </g>\n     </g>\n     <g id=\"text_1\">\n      <!-- −1.0 -->\n      <g transform=\"translate(44.461406 239.238437)scale(0.1 -0.1)\">\n       <defs>\n        <path d=\"M 10.59375 35.5 \nL 73.1875 35.5 \nL 73.1875 27.203125 \nL 10.59375 27.203125 \nz\n\" id=\"DejaVuSans-8722\"/>\n        <path d=\"M 12.40625 8.296875 \nL 28.515625 8.296875 \nL 28.515625 63.921875 \nL 10.984375 60.40625 \nL 10.984375 69.390625 \nL 28.421875 72.90625 \nL 38.28125 72.90625 \nL 38.28125 8.296875 \nL 54.390625 8.296875 \nL 54.390625 0 \nL 12.40625 0 \nz\n\" id=\"DejaVuSans-49\"/>\n        <path d=\"M 10.6875 12.40625 \nL 21 12.40625 \nL 21 0 \nL 10.6875 0 \nz\n\" id=\"DejaVuSans-46\"/>\n        <path d=\"M 31.78125 66.40625 \nQ 24.171875 66.40625 20.328125 58.90625 \nQ 16.5 51.421875 16.5 36.375 \nQ 16.5 21.390625 20.328125 13.890625 \nQ 24.171875 6.390625 31.78125 6.390625 \nQ 39.453125 6.390625 43.28125 13.890625 \nQ 47.125 21.390625 47.125 36.375 \nQ 47.125 51.421875 43.28125 58.90625 \nQ 39.453125 66.40625 31.78125 66.40625 \nz\nM 31.78125 74.21875 \nQ 44.046875 74.21875 50.515625 64.515625 \nQ 56.984375 54.828125 56.984375 36.375 \nQ 56.984375 17.96875 50.515625 8.265625 \nQ 44.046875 -1.421875 31.78125 -1.421875 \nQ 19.53125 -1.421875 13.0625 8.265625 \nQ 6.59375 17.96875 6.59375 36.375 \nQ 6.59375 54.828125 13.0625 64.515625 \nQ 19.53125 74.21875 31.78125 74.21875 \nz\n\" id=\"DejaVuSans-48\"/>\n       </defs>\n       <use xlink:href=\"#DejaVuSans-8722\"/>\n       <use x=\"83.789062\" xlink:href=\"#DejaVuSans-49\"/>\n       <use x=\"147.412109\" xlink:href=\"#DejaVuSans-46\"/>\n       <use x=\"179.199219\" xlink:href=\"#DejaVuSans-48\"/>\n      </g>\n     </g>\n    </g>\n    <g id=\"xtick_2\">\n     <g id=\"line2d_2\">\n      <g>\n       <use style=\"stroke:#000000;stroke-width:0.8;\" x=\"101.902812\" xlink:href=\"#m6a84640fc8\" y=\"224.64\"/>\n      </g>\n     </g>\n     <g id=\"text_2\">\n      <!-- −0.5 -->\n      <g transform=\"translate(89.761406 239.238437)scale(0.1 -0.1)\">\n       <defs>\n        <path d=\"M 10.796875 72.90625 \nL 49.515625 72.90625 \nL 49.515625 64.59375 \nL 19.828125 64.59375 \nL 19.828125 46.734375 \nQ 21.96875 47.46875 24.109375 47.828125 \nQ 26.265625 48.1875 28.421875 48.1875 \nQ 40.625 48.1875 47.75 41.5 \nQ 54.890625 34.8125 54.890625 23.390625 \nQ 54.890625 11.625 47.5625 5.09375 \nQ 40.234375 -1.421875 26.90625 -1.421875 \nQ 22.3125 -1.421875 17.546875 -0.640625 \nQ 12.796875 0.140625 7.71875 1.703125 \nL 7.71875 11.625 \nQ 12.109375 9.234375 16.796875 8.0625 \nQ 21.484375 6.890625 26.703125 6.890625 \nQ 35.15625 6.890625 40.078125 11.328125 \nQ 45.015625 15.765625 45.015625 23.390625 \nQ 45.015625 31 40.078125 35.4375 \nQ 35.15625 39.890625 26.703125 39.890625 \nQ 22.75 39.890625 18.8125 39.015625 \nQ 14.890625 38.140625 10.796875 36.28125 \nz\n\" id=\"DejaVuSans-53\"/>\n       </defs>\n       <use xlink:href=\"#DejaVuSans-8722\"/>\n       <use x=\"83.789062\" xlink:href=\"#DejaVuSans-48\"/>\n       <use x=\"147.412109\" xlink:href=\"#DejaVuSans-46\"/>\n       <use x=\"179.199219\" xlink:href=\"#DejaVuSans-53\"/>\n      </g>\n     </g>\n    </g>\n    <g id=\"xtick_3\">\n     <g id=\"line2d_3\">\n      <g>\n       <use style=\"stroke:#000000;stroke-width:0.8;\" x=\"147.202812\" xlink:href=\"#m6a84640fc8\" y=\"224.64\"/>\n      </g>\n     </g>\n     <g id=\"text_3\">\n      <!-- 0.0 -->\n      <g transform=\"translate(139.25125 239.238437)scale(0.1 -0.1)\">\n       <use xlink:href=\"#DejaVuSans-48\"/>\n       <use x=\"63.623047\" xlink:href=\"#DejaVuSans-46\"/>\n       <use x=\"95.410156\" xlink:href=\"#DejaVuSans-48\"/>\n      </g>\n     </g>\n    </g>\n    <g id=\"xtick_4\">\n     <g id=\"line2d_4\">\n      <g>\n       <use style=\"stroke:#000000;stroke-width:0.8;\" x=\"192.502813\" xlink:href=\"#m6a84640fc8\" y=\"224.64\"/>\n      </g>\n     </g>\n     <g id=\"text_4\">\n      <!-- 0.5 -->\n      <g transform=\"translate(184.55125 239.238437)scale(0.1 -0.1)\">\n       <use xlink:href=\"#DejaVuSans-48\"/>\n       <use x=\"63.623047\" xlink:href=\"#DejaVuSans-46\"/>\n       <use x=\"95.410156\" xlink:href=\"#DejaVuSans-53\"/>\n      </g>\n     </g>\n    </g>\n    <g id=\"xtick_5\">\n     <g id=\"line2d_5\">\n      <g>\n       <use style=\"stroke:#000000;stroke-width:0.8;\" x=\"237.802813\" xlink:href=\"#m6a84640fc8\" y=\"224.64\"/>\n      </g>\n     </g>\n     <g id=\"text_5\">\n      <!-- 1.0 -->\n      <g transform=\"translate(229.85125 239.238437)scale(0.1 -0.1)\">\n       <use xlink:href=\"#DejaVuSans-49\"/>\n       <use x=\"63.623047\" xlink:href=\"#DejaVuSans-46\"/>\n       <use x=\"95.410156\" xlink:href=\"#DejaVuSans-48\"/>\n      </g>\n     </g>\n    </g>\n   </g>\n   <g id=\"matplotlib.axis_2\">\n    <g id=\"ytick_1\">\n     <g id=\"line2d_6\">\n      <defs>\n       <path d=\"M 0 0 \nL -3.5 0 \n\" id=\"m2e6c8f3c94\" style=\"stroke:#000000;stroke-width:0.8;\"/>\n      </defs>\n      <g>\n       <use style=\"stroke:#000000;stroke-width:0.8;\" x=\"38.482813\" xlink:href=\"#m2e6c8f3c94\" y=\"206.52\"/>\n      </g>\n     </g>\n     <g id=\"text_6\">\n      <!-- −1.0 -->\n      <g transform=\"translate(7.2 210.319219)scale(0.1 -0.1)\">\n       <use xlink:href=\"#DejaVuSans-8722\"/>\n       <use x=\"83.789062\" xlink:href=\"#DejaVuSans-49\"/>\n       <use x=\"147.412109\" xlink:href=\"#DejaVuSans-46\"/>\n       <use x=\"179.199219\" xlink:href=\"#DejaVuSans-48\"/>\n      </g>\n     </g>\n    </g>\n    <g id=\"ytick_2\">\n     <g id=\"line2d_7\">\n      <g>\n       <use style=\"stroke:#000000;stroke-width:0.8;\" x=\"38.482813\" xlink:href=\"#m2e6c8f3c94\" y=\"161.22\"/>\n      </g>\n     </g>\n     <g id=\"text_7\">\n      <!-- −0.5 -->\n      <g transform=\"translate(7.2 165.019219)scale(0.1 -0.1)\">\n       <use xlink:href=\"#DejaVuSans-8722\"/>\n       <use x=\"83.789062\" xlink:href=\"#DejaVuSans-48\"/>\n       <use x=\"147.412109\" xlink:href=\"#DejaVuSans-46\"/>\n       <use x=\"179.199219\" xlink:href=\"#DejaVuSans-53\"/>\n      </g>\n     </g>\n    </g>\n    <g id=\"ytick_3\">\n     <g id=\"line2d_8\">\n      <g>\n       <use style=\"stroke:#000000;stroke-width:0.8;\" x=\"38.482813\" xlink:href=\"#m2e6c8f3c94\" y=\"115.92\"/>\n      </g>\n     </g>\n     <g id=\"text_8\">\n      <!-- 0.0 -->\n      <g transform=\"translate(15.579688 119.719219)scale(0.1 -0.1)\">\n       <use xlink:href=\"#DejaVuSans-48\"/>\n       <use x=\"63.623047\" xlink:href=\"#DejaVuSans-46\"/>\n       <use x=\"95.410156\" xlink:href=\"#DejaVuSans-48\"/>\n      </g>\n     </g>\n    </g>\n    <g id=\"ytick_4\">\n     <g id=\"line2d_9\">\n      <g>\n       <use style=\"stroke:#000000;stroke-width:0.8;\" x=\"38.482813\" xlink:href=\"#m2e6c8f3c94\" y=\"70.62\"/>\n      </g>\n     </g>\n     <g id=\"text_9\">\n      <!-- 0.5 -->\n      <g transform=\"translate(15.579688 74.419219)scale(0.1 -0.1)\">\n       <use xlink:href=\"#DejaVuSans-48\"/>\n       <use x=\"63.623047\" xlink:href=\"#DejaVuSans-46\"/>\n       <use x=\"95.410156\" xlink:href=\"#DejaVuSans-53\"/>\n      </g>\n     </g>\n    </g>\n    <g id=\"ytick_5\">\n     <g id=\"line2d_10\">\n      <g>\n       <use style=\"stroke:#000000;stroke-width:0.8;\" x=\"38.482813\" xlink:href=\"#m2e6c8f3c94\" y=\"25.32\"/>\n      </g>\n     </g>\n     <g id=\"text_10\">\n      <!-- 1.0 -->\n      <g transform=\"translate(15.579688 29.119219)scale(0.1 -0.1)\">\n       <use xlink:href=\"#DejaVuSans-49\"/>\n       <use x=\"63.623047\" xlink:href=\"#DejaVuSans-46\"/>\n       <use x=\"95.410156\" xlink:href=\"#DejaVuSans-48\"/>\n      </g>\n     </g>\n    </g>\n   </g>\n   <g id=\"patch_3\">\n    <path d=\"M 38.482813 224.64 \nL 38.482813 7.2 \n\" style=\"fill:none;stroke:#000000;stroke-linecap:square;stroke-linejoin:miter;stroke-width:0.8;\"/>\n   </g>\n   <g id=\"patch_4\">\n    <path d=\"M 255.922813 224.64 \nL 255.922813 7.2 \n\" style=\"fill:none;stroke:#000000;stroke-linecap:square;stroke-linejoin:miter;stroke-width:0.8;\"/>\n   </g>\n   <g id=\"patch_5\">\n    <path d=\"M 38.482812 224.64 \nL 255.922813 224.64 \n\" style=\"fill:none;stroke:#000000;stroke-linecap:square;stroke-linejoin:miter;stroke-width:0.8;\"/>\n   </g>\n   <g id=\"patch_6\">\n    <path d=\"M 38.482812 7.2 \nL 255.922813 7.2 \n\" style=\"fill:none;stroke:#000000;stroke-linecap:square;stroke-linejoin:miter;stroke-width:0.8;\"/>\n   </g>\n  </g>\n </g>\n <defs>\n  <clipPath id=\"p06157c1945\">\n   <rect height=\"217.44\" width=\"217.44\" x=\"38.482813\" y=\"7.2\"/>\n  </clipPath>\n </defs>\n</svg>\n",
      "image/png": "[encoded data removed]"
     },
     "metadata": {
      "needs_background": "light"
     }
    }
   ],
   "source": [
    "jet_image = getImage(features)\n",
    "plotImage(jet_image)"
   ]
  },
  {
   "source": [
    "### 5) Excercise\n",
    "Using different hyperparameters, try to generate jet image with 4-momenta data."
   ],
   "cell_type": "markdown",
   "metadata": {}
  },
  {
   "cell_type": "code",
   "execution_count": null,
   "metadata": {},
   "outputs": [],
   "source": []
  }
 ]
}